{
 "cells": [
  {
   "cell_type": "code",
   "execution_count": 1,
   "id": "9ad47b08",
   "metadata": {},
   "outputs": [],
   "source": [
    "%config Completer.use_jedi = False"
   ]
  },
  {
   "cell_type": "code",
   "execution_count": 2,
   "id": "62f39ece",
   "metadata": {},
   "outputs": [],
   "source": [
    "import itertools\n",
    "import numpy as np"
   ]
  },
  {
   "cell_type": "code",
   "execution_count": 3,
   "id": "9400c850",
   "metadata": {},
   "outputs": [],
   "source": [
    "import torch\n",
    "import torchvision\n",
    "import torch.nn as nn\n",
    "import torch.optim as optim\n",
    "import torch.nn.functional as F\n",
    "from torchvision import transforms, utils\n",
    "from torch.autograd import Variable"
   ]
  },
  {
   "cell_type": "code",
   "execution_count": 4,
   "id": "a0c98c62",
   "metadata": {},
   "outputs": [],
   "source": [
    "from datetime import datetime\n",
    "from torch.utils.data import Dataset, DataLoader, random_split\n",
    "from torch.utils.tensorboard import SummaryWriter\n",
    "import tensorflow as tf\n",
    "import tensorboard as tb\n",
    "tf.io.gfile = tb.compat.tensorflow_stub.io.gfile"
   ]
  },
  {
   "cell_type": "code",
   "execution_count": 5,
   "id": "67617868",
   "metadata": {},
   "outputs": [
    {
     "name": "stdout",
     "output_type": "stream",
     "text": [
      "device : cuda:0\n"
     ]
    }
   ],
   "source": [
    "DEVICE = torch.device('cuda:0' if torch.cuda.is_available() else 'cpu')\n",
    "print('device : %s'%(DEVICE))"
   ]
  },
  {
   "cell_type": "code",
   "execution_count": 6,
   "id": "119c68ef",
   "metadata": {},
   "outputs": [
    {
     "data": {
      "text/plain": [
       "'1.9.0+cu111'"
      ]
     },
     "execution_count": 6,
     "metadata": {},
     "output_type": "execute_result"
    }
   ],
   "source": [
    "torch.__version__"
   ]
  },
  {
   "cell_type": "code",
   "execution_count": 7,
   "id": "f0e1750b",
   "metadata": {},
   "outputs": [
    {
     "name": "stdout",
     "output_type": "stream",
     "text": [
      "device : cuda:0\n"
     ]
    }
   ],
   "source": [
    "from models.AAE import encoder, decoder, discriminator\n",
    "from modules.MyDataset import MaskDataset"
   ]
  },
  {
   "cell_type": "code",
   "execution_count": 8,
   "id": "d5d4d76f",
   "metadata": {},
   "outputs": [],
   "source": [
    "enc = encoder()"
   ]
  },
  {
   "cell_type": "code",
   "execution_count": 9,
   "id": "8ecc13ad",
   "metadata": {},
   "outputs": [
    {
     "data": {
      "text/plain": [
       "torch.Size([1, 40])"
      ]
     },
     "execution_count": 9,
     "metadata": {},
     "output_type": "execute_result"
    }
   ],
   "source": [
    "z= enc(torch.zeros((1,3,128,128)).to(DEVICE))\n",
    "z.shape"
   ]
  },
  {
   "cell_type": "code",
   "execution_count": 10,
   "id": "0165f062",
   "metadata": {},
   "outputs": [],
   "source": [
    "dec = decoder()"
   ]
  },
  {
   "cell_type": "code",
   "execution_count": 11,
   "id": "a76d0bec",
   "metadata": {},
   "outputs": [
    {
     "data": {
      "text/plain": [
       "torch.Size([1, 3, 128, 128])"
      ]
     },
     "execution_count": 11,
     "metadata": {},
     "output_type": "execute_result"
    }
   ],
   "source": [
    "re_im = dec(z)\n",
    "re_im.shape"
   ]
  },
  {
   "cell_type": "code",
   "execution_count": 12,
   "id": "5cd8e76a",
   "metadata": {},
   "outputs": [],
   "source": [
    "D = discriminator().to(DEVICE)"
   ]
  },
  {
   "cell_type": "code",
   "execution_count": 13,
   "id": "8e1bc78e",
   "metadata": {},
   "outputs": [
    {
     "data": {
      "text/plain": [
       "torch.Size([1, 1])"
      ]
     },
     "execution_count": 13,
     "metadata": {},
     "output_type": "execute_result"
    }
   ],
   "source": [
    "D.forward(torch.FloatTensor(np.random.randn(1,40)).to(DEVICE)).shape"
   ]
  },
  {
   "cell_type": "code",
   "execution_count": 14,
   "id": "4e69b84b",
   "metadata": {},
   "outputs": [],
   "source": [
    "BATCH_SIZE    = 128\n",
    "LEARNING_RATE = 0.001\n",
    "TOTAL_EPOCH   = 10000\n",
    "DATE_TIME     = datetime.now().strftime(\"%H:%M:%S\")"
   ]
  },
  {
   "cell_type": "code",
   "execution_count": 15,
   "id": "cffbdeac",
   "metadata": {},
   "outputs": [],
   "source": [
    "composed = transforms.Compose([\n",
    "    transforms.ToTensor(),\n",
    "    lambda img : transforms.functional.crop(img, 80, 50, 320, 256),\n",
    "    lambda img : transforms.functional.resize(img,[128,128])\n",
    "    \n",
    "])\n",
    "\n",
    "only_normal_dataset = MaskDataset(\n",
    "    mode        = 'only_normal',\n",
    "    train       = True,\n",
    "    csv_path    = './train/train.csv',\n",
    "    images_path = './train/images/',\n",
    "    valid_ratio = 0.1,\n",
    "    transforms  = composed,\n",
    ")"
   ]
  },
  {
   "cell_type": "code",
   "execution_count": 16,
   "id": "024e87e5",
   "metadata": {},
   "outputs": [
    {
     "data": {
      "text/plain": [
       "torch.Size([3, 128, 128])"
      ]
     },
     "execution_count": 16,
     "metadata": {},
     "output_type": "execute_result"
    }
   ],
   "source": [
    "data = only_normal_dataset[0]\n",
    "data[0].shape"
   ]
  },
  {
   "cell_type": "code",
   "execution_count": 17,
   "id": "244ccc57",
   "metadata": {},
   "outputs": [
    {
     "name": "stdout",
     "output_type": "stream",
     "text": [
      "torch.Size([128, 3, 128, 128])\n",
      "torch.Size([128])\n"
     ]
    }
   ],
   "source": [
    "dataloader = DataLoader(\n",
    "    dataset     = only_normal_dataset,\n",
    "    batch_size  = BATCH_SIZE,\n",
    "    shuffle     = True,\n",
    "    num_workers = 4,\n",
    "    drop_last   = True\n",
    ")\n",
    "sample_images, sample_labels = next(iter(dataloader))\n",
    "print(sample_images.shape)\n",
    "print(sample_labels.shape)"
   ]
  },
  {
   "cell_type": "code",
   "execution_count": 18,
   "id": "6565bd68",
   "metadata": {},
   "outputs": [],
   "source": [
    "opt_G = optim.SGD(\n",
    "    itertools.chain(enc.parameters(),dec.parameters()),\n",
    "    lr = 0.001,\n",
    "    momentum = 0.9\n",
    ")\n",
    "opt_D = optim.Adam(\n",
    "    D.parameters(),\n",
    "    lr = 0.001\n",
    ")\n",
    "\n",
    "\n",
    "#adversarial_loss = torch.nn.L1Loss()\n",
    "adversarial_loss = torch.nn.BCELoss()\n",
    "pixcelwise_loss = torch.nn.MSELoss()"
   ]
  },
  {
   "cell_type": "code",
   "execution_count": null,
   "id": "1cd32f18",
   "metadata": {},
   "outputs": [
    {
     "name": "stdout",
     "output_type": "stream",
     "text": [
      "241\r"
     ]
    }
   ],
   "source": [
    "\n",
    "writer = SummaryWriter(\n",
    "    'runs/experiment_%s'%(DATE_TIME)\n",
    ")\n",
    "\n",
    "g_step = 0\n",
    "\n",
    "# Adversarial ground truths\n",
    "Tensor = torch.cuda.FloatTensor\n",
    "valid = Variable(Tensor(BATCH_SIZE, 1).fill_(1.0), requires_grad=False).to(DEVICE)\n",
    "fake = Variable(Tensor(BATCH_SIZE, 1).fill_(0.0), requires_grad=False).to(DEVICE)\n",
    "\n",
    "for ep in range(TOTAL_EPOCH):\n",
    "    for images, labels in iter(dataloader):\n",
    "        g_step += 1\n",
    "        \n",
    "        enc.train()\n",
    "        dec.train()\n",
    "        # Generator\n",
    "        \n",
    "        X = images.to(DEVICE)\n",
    "        latent_vector = enc(X)\n",
    "        re_im = dec(latent_vector)\n",
    "        \n",
    "        g_loss_val = 0.001 * adversarial_loss(D(latent_vector), valid) + 0.999 * pixcelwise_loss(re_im, X)\n",
    "        \n",
    "        opt_G.zero_grad()\n",
    "        g_loss_val.backward()\n",
    "        opt_G.step()\n",
    "        \n",
    "        # Discriminator\n",
    "        \n",
    "        # Sample noise as discriminator ground truth\n",
    "        zeros = torch.zeros(latent_vector.shape)\n",
    "        ones = torch.ones(latent_vector.shape)\n",
    "        z = torch.rand(latent_vector.shape)\n",
    "        \n",
    "        real_loss = adversarial_loss(D(z.to(DEVICE)), valid)\n",
    "        fake_loss = adversarial_loss(D(latent_vector.detach()), fake)\n",
    "        d_loss = 0.5 * (real_loss + fake_loss)\n",
    "        \n",
    "        opt_D.zero_grad()\n",
    "        d_loss.backward()\n",
    "        opt_D.step()\n",
    "        \n",
    "        writer.add_scalar(\n",
    "            \"G_loss\",\n",
    "            g_loss_val,\n",
    "            g_step\n",
    "        )\n",
    "        writer.add_scalar(\n",
    "            \"D_loss\",\n",
    "            d_loss,\n",
    "            g_step\n",
    "        )\n",
    "    \n",
    "    \n",
    "    enc.eval()\n",
    "    dec.eval()\n",
    "    \n",
    "    img_grid = torchvision.utils.make_grid(sample_images)\n",
    "    writer.add_image(\n",
    "        'original',\n",
    "        img_grid,\n",
    "        global_step = g_step\n",
    "    )\n",
    "    \n",
    "    z = enc(sample_images.to(DEVICE))\n",
    "    sample_re_im = dec(z)\n",
    "    img_grid = torchvision.utils.make_grid(sample_re_im)\n",
    "    writer.add_image(\n",
    "        'reconstruction',\n",
    "        img_grid,\n",
    "        global_step = g_step\n",
    "    )\n",
    "\n",
    "    \n",
    "    \n",
    "    writer.add_embedding(\n",
    "        z,\n",
    "        metadata = sample_labels,#[\"female\", \"male\"],\n",
    "        #label_img=sample_images[:,:,:256,:],\n",
    "        global_step = g_step\n",
    "    )\n",
    "        \n",
    "    print(ep, end = \"\\r\")"
   ]
  },
  {
   "cell_type": "code",
   "execution_count": null,
   "id": "a48f6edc",
   "metadata": {},
   "outputs": [],
   "source": [
    "import pandas as pd"
   ]
  },
  {
   "cell_type": "code",
   "execution_count": null,
   "id": "ec250d3c",
   "metadata": {},
   "outputs": [],
   "source": [
    "SAVE_PATH = \"./saved_models/encoder_%s.pt\"%DATE_TIME\n",
    "\n",
    "torch.save(enc.state_dict(), SAVE_PATH)"
   ]
  },
  {
   "cell_type": "code",
   "execution_count": null,
   "id": "fffda157",
   "metadata": {},
   "outputs": [],
   "source": [
    "data_dict = {\n",
    "    \"BATCH_SIZE\"    : BATCH_SIZE,\n",
    "    \"LEARNING_RATE\" : LEARNING_RATE,\n",
    "    \"TOTAL_EPOCH\"   : TOTAL_EPOCH,\n",
    "    \"SAVE_PATH\"     : SAVE_PATH\n",
    "}\n",
    "\n",
    "df = pd.DataFrame(data_dict, index = [0])"
   ]
  },
  {
   "cell_type": "code",
   "execution_count": null,
   "id": "e0a564d6",
   "metadata": {},
   "outputs": [],
   "source": [
    "df.to_csv(\"./saved_models/meta_data.csv\")"
   ]
  },
  {
   "cell_type": "code",
   "execution_count": null,
   "id": "565f91f0",
   "metadata": {},
   "outputs": [],
   "source": [
    "from sklearn.manifold import TSNE\n",
    "import matplotlib.pyplot as plt"
   ]
  },
  {
   "cell_type": "code",
   "execution_count": null,
   "id": "9a512692",
   "metadata": {},
   "outputs": [],
   "source": [
    "enc.eval()\n",
    "latent,labels = [],[]\n",
    "for i in range(len(only_normal_dataset)):\n",
    "    x, label = only_normal_dataset[i]\n",
    "    z = enc(x.to(DEVICE).unsqueeze(0))\n",
    "    latent.append(z.cpu().detach().numpy()[0])\n",
    "    labels.append(label)\n",
    "\n",
    "pwriter = SummaryWriter(\n",
    "    'runs/total_latent'\n",
    ")\n"
   ]
  },
  {
   "cell_type": "code",
   "execution_count": null,
   "id": "fd82cc9b",
   "metadata": {},
   "outputs": [],
   "source": [
    "import numpy as np\n",
    "pwriter.add_embedding(\n",
    "    np.array(latent[:500]),\n",
    "    metadata = labels[:500],#[\"female\", \"male\"],\n",
    "    #label_img=sample_images[:,:,:256,:],\n",
    "    global_step = g_step\n",
    ")"
   ]
  },
  {
   "cell_type": "code",
   "execution_count": null,
   "id": "3e78ec70",
   "metadata": {},
   "outputs": [],
   "source": []
  }
 ],
 "metadata": {
  "kernelspec": {
   "display_name": "Python 3",
   "language": "python",
   "name": "python3"
  },
  "language_info": {
   "codemirror_mode": {
    "name": "ipython",
    "version": 3
   },
   "file_extension": ".py",
   "mimetype": "text/x-python",
   "name": "python",
   "nbconvert_exporter": "python",
   "pygments_lexer": "ipython3",
   "version": "3.6.9"
  },
  "toc": {
   "base_numbering": 1,
   "nav_menu": {},
   "number_sections": true,
   "sideBar": true,
   "skip_h1_title": false,
   "title_cell": "Table of Contents",
   "title_sidebar": "Contents",
   "toc_cell": false,
   "toc_position": {},
   "toc_section_display": true,
   "toc_window_display": false
  }
 },
 "nbformat": 4,
 "nbformat_minor": 5
}
