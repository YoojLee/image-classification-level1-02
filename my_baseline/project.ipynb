{
 "cells": [
  {
   "cell_type": "code",
   "execution_count": 1,
   "id": "4ffeb1b2-18d9-49e7-b2da-407c3dce3f1c",
   "metadata": {},
   "outputs": [],
   "source": [
    "from train import train, class_acc\n",
    "from model import Model\n",
    "from dataset import TrainDataset, TestDataset\n",
    "from test import predictTestData"
   ]
  },
  {
   "cell_type": "code",
   "execution_count": 2,
   "id": "cd8c8931-e43a-4678-8fd2-d576a60ad979",
   "metadata": {},
   "outputs": [
    {
     "name": "stdout",
     "output_type": "stream",
     "text": [
      "| ID | GPU | MEM |\n",
      "------------------\n",
      "|  0 |  0% |  0% |\n"
     ]
    }
   ],
   "source": [
    "import os\n",
    "import pandas as pd\n",
    "from PIL import Image\n",
    "import numpy as np\n",
    "from numpy import asarray\n",
    "import cv2\n",
    "\n",
    "import torch\n",
    "import torch.nn as nn\n",
    "import torch.nn.functional as F\n",
    "from torch.utils.data import Dataset, DataLoader\n",
    "from torch.utils.tensorboard import SummaryWriter\n",
    "\n",
    "from torchvision import transforms as T\n",
    "from torchvision.transforms import Resize, ToTensor, Normalize\n",
    "\n",
    "import albumentations as A\n",
    "from albumentations.pytorch import ToTensorV2\n",
    "\n",
    "import torchvision.models as models\n",
    "from torchsummary import summary\n",
    "\n",
    "from tqdm import tqdm\n",
    "\n",
    "from GPUtil import showUtilization as gpu_usage\n",
    "gpu_usage()"
   ]
  },
  {
   "cell_type": "code",
   "execution_count": 3,
   "id": "633ec7c2-604f-4c13-b76c-37a8a7275fb3",
   "metadata": {},
   "outputs": [
    {
     "name": "stdout",
     "output_type": "stream",
     "text": [
      "Tesla V100-PCIE-32GB\n"
     ]
    }
   ],
   "source": [
    "device = torch.device('cuda' if torch.cuda.is_available() else 'cpu')\n",
    "print(torch.cuda.get_device_name(device))"
   ]
  },
  {
   "cell_type": "code",
   "execution_count": 4,
   "id": "c837a4fa-97c6-454b-a4fd-56d616576a9e",
   "metadata": {},
   "outputs": [],
   "source": [
    "age_dir = '/opt/ml/split_labels/age/'\n",
    "train = pd.read_csv(age_dir + 'train.csv')\n",
    "valid = pd.read_csv(age_dir + 'valid.csv')"
   ]
  },
  {
   "cell_type": "code",
   "execution_count": 5,
   "id": "51a661cf-7016-4b55-b672-8b71200677f9",
   "metadata": {},
   "outputs": [],
   "source": [
    "test = pd.read_csv('/opt/ml/input/data/eval/info.csv')"
   ]
  },
  {
   "cell_type": "code",
   "execution_count": 6,
   "id": "dfc9a501-51b7-4165-ad47-c3fcc1183da7",
   "metadata": {},
   "outputs": [],
   "source": [
    "AgeModel = Model(num_classes=3).to(device)"
   ]
  },
  {
   "cell_type": "code",
   "execution_count": 7,
   "id": "cd9d91ed-d1dd-478d-ab20-ff7884f95218",
   "metadata": {},
   "outputs": [],
   "source": [
    "X_train, y_train = train['path'], train['age']\n",
    "X_valid, y_valid = valid['path'], valid['age']\n",
    "# X_train.head()"
   ]
  },
  {
   "cell_type": "code",
   "execution_count": 8,
   "id": "38fcfcba-635a-4f84-a0b8-047d3d8ad2e4",
   "metadata": {},
   "outputs": [],
   "source": [
    "test['path'] = [os.path.join('/opt/ml/input/data/eval/images/', img) for img in test.ImageID]"
   ]
  },
  {
   "cell_type": "code",
   "execution_count": 9,
   "id": "52945b21-e0d3-4dc9-98f0-f727dc6d14d9",
   "metadata": {},
   "outputs": [
    {
     "name": "stderr",
     "output_type": "stream",
     "text": [
      "/opt/conda/lib/python3.8/site-packages/albumentations/augmentations/transforms.py:688: FutureWarning: This class has been deprecated. Please use CoarseDropout\n",
      "  warnings.warn(\n"
     ]
    }
   ],
   "source": [
    "CROP_SIZE = 384\n",
    "RESIZE = 224\n",
    "mean = [0.485, 0.456, 0.406]\n",
    "std = [0.229, 0.224, 0.225]\n",
    "\n",
    "cutout = A.Compose([\n",
    "    A.OpticalDistortion(p=0.5),\n",
    "    A.OneOf([\n",
    "        A.Cutout(p=1, num_holes=10, max_h_size=10, max_w_size=6),\n",
    "        A.GridDistortion(p=1, num_steps=5, interpolation=1, border_mode=1, value=(0, 0, 0)),\n",
    "    ], p=0.5),\n",
    "    A.CenterCrop(height=CROP_SIZE+80, width=CROP_SIZE),\n",
    "    A.Resize(height=RESIZE, width=RESIZE),\n",
    "    A.Normalize(mean=mean, std=std),\n",
    "    ToTensorV2(),\n",
    "])\n",
    "\n",
    "transform = A.Compose([\n",
    "    A.CenterCrop(height=CROP_SIZE+80, width=CROP_SIZE),\n",
    "    A.Resize(height=RESIZE, width=RESIZE),\n",
    "    A.Normalize(mean=mean, std=std),\n",
    "    ToTensorV2(),\n",
    "])"
   ]
  },
  {
   "cell_type": "code",
   "execution_count": 10,
   "id": "ffcd85c6-b9d2-4967-a5de-bc7a5b2cde80",
   "metadata": {},
   "outputs": [
    {
     "name": "stderr",
     "output_type": "stream",
     "text": [
      "100%|██████████| 17010/17010 [01:01<00:00, 277.59it/s]\n",
      "100%|██████████| 1890/1890 [00:06<00:00, 277.46it/s]\n"
     ]
    }
   ],
   "source": [
    "train_dataset = TrainDataset(X_train, y_train, cutout)\n",
    "valid_dataset = TrainDataset(X_valid, y_valid, transform)"
   ]
  },
  {
   "cell_type": "code",
   "execution_count": 11,
   "id": "8343158c-7310-4bbb-9a83-61f04b9cc168",
   "metadata": {},
   "outputs": [
    {
     "name": "stderr",
     "output_type": "stream",
     "text": [
      "100%|██████████| 12600/12600 [00:44<00:00, 283.68it/s]\n"
     ]
    }
   ],
   "source": [
    "test_dataset = TestDataset(test['path'], transform)"
   ]
  },
  {
   "cell_type": "code",
   "execution_count": null,
   "id": "af70f739-1957-4f9e-9097-2929e4ff7fdb",
   "metadata": {},
   "outputs": [],
   "source": [
    "BATCH_SIZE = 64\n",
    "_train_loader = DataLoader(_train_dataset, batch_size=BATCH_SIZE, shuffle=True, drop_last=True)\n",
    "_valid_loader = DataLoader(_valid_dataset, batch_size=BATCH_SIZE, shuffle=True, drop_last=True)\n",
    "test_loader = DataLoader(test_dataset, batch_size=BATCH_SIZE, shuffle=False, drop_last=False)"
   ]
  },
  {
   "cell_type": "code",
   "execution_count": null,
   "id": "95a9dc0e-592a-4241-99f9-ec5c0016de13",
   "metadata": {},
   "outputs": [],
   "source": [
    "from torch.optim import Adam, SGD\n",
    "from torch.optim.lr_scheduler import StepLR\n",
    "\n",
    "LEARNING_RATE = 1e-4\n",
    "criterion = nn.CrossEntropyLoss()\n",
    "optG = Adam(GenderModel.parameters(), lr=LEARNING_RATE)\n",
    "schG = StepLR(optG, step_size=5, gamma=0.5)"
   ]
  },
  {
   "cell_type": "code",
   "execution_count": null,
   "id": "092a58c7-db66-4c24-9b91-301bc80afb6e",
   "metadata": {},
   "outputs": [],
   "source": [
    "train(\n",
    "    model = AgeModel,\n",
    "    optimizer = optG,\n",
    "    criterion = criterion,\n",
    "    train_loader = gender_train_loader,\n",
    "    val_loader = gender_valid_loader,\n",
    "    device = device,\n",
    "    scheduler = schG,\n",
    "    writer = writer,\n",
    "    epochs = 3\n",
    ")"
   ]
  }
 ],
 "metadata": {
  "kernelspec": {
   "display_name": "Python 3 (ipykernel)",
   "language": "python",
   "name": "python3"
  },
  "language_info": {
   "codemirror_mode": {
    "name": "ipython",
    "version": 3
   },
   "file_extension": ".py",
   "mimetype": "text/x-python",
   "name": "python",
   "nbconvert_exporter": "python",
   "pygments_lexer": "ipython3",
   "version": "3.8.5"
  }
 },
 "nbformat": 4,
 "nbformat_minor": 5
}
