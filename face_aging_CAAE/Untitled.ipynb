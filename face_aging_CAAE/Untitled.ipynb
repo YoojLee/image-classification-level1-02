{
 "cells": [
  {
   "cell_type": "code",
   "execution_count": 1,
   "id": "504a6830",
   "metadata": {},
   "outputs": [],
   "source": [
    "import pandas as pd\n",
    "import numpy as np\n",
    "import torch\n",
    "from torch import nn\n",
    "from torch import optim\n",
    "from torch.autograd import Variable\n",
    "import torchvision.transforms as transforms\n",
    "import torch.nn.functional as F\n",
    "import torchvision.utils as vutils\n",
    "import pickle\n",
    "from PIL import ImageFile\n",
    "ImageFile.LOAD_TRUNCATED_IMAGES = True"
   ]
  },
  {
   "cell_type": "code",
   "execution_count": null,
   "id": "4bfdf34d",
   "metadata": {},
   "outputs": [],
   "source": [
    "n_channel = 3 # channel of input image\n",
    "n_disc = 16   # intermediate layer channel of discriminator\n",
    "n_gen = 64    # intermediate layer channel of generator (decoder)\n",
    "n_encode = 64 # intermediate layer channel of encoder\n",
    "n_l = 10      # \n",
    "n_z = 50\n",
    "img_size = 128\n",
    "batchSize = 20\n",
    "use_cuda = torch.cuda.is_available()\n",
    "n_age = int(n_z/n_l)\n",
    "n_gender = int(n_z/2)"
   ]
  }
 ],
 "metadata": {
  "kernelspec": {
   "display_name": "Python 3",
   "language": "python",
   "name": "python3"
  },
  "language_info": {
   "codemirror_mode": {
    "name": "ipython",
    "version": 3
   },
   "file_extension": ".py",
   "mimetype": "text/x-python",
   "name": "python",
   "nbconvert_exporter": "python",
   "pygments_lexer": "ipython3",
   "version": "3.6.9"
  },
  "toc": {
   "base_numbering": 1,
   "nav_menu": {},
   "number_sections": true,
   "sideBar": true,
   "skip_h1_title": false,
   "title_cell": "Table of Contents",
   "title_sidebar": "Contents",
   "toc_cell": false,
   "toc_position": {},
   "toc_section_display": true,
   "toc_window_display": false
  }
 },
 "nbformat": 4,
 "nbformat_minor": 5
}
