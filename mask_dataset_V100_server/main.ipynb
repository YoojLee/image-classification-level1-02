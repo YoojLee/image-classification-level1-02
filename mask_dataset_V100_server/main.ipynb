{
 "cells": [
  {
   "cell_type": "code",
   "execution_count": 1,
   "id": "10b26de0-6dbf-48d6-a0ee-54e9b990e3d6",
   "metadata": {},
   "outputs": [
    {
     "data": {
      "text/plain": [
       "'2021-08-27_03_49_17'"
      ]
     },
     "execution_count": 1,
     "metadata": {},
     "output_type": "execute_result"
    }
   ],
   "source": [
    "from datetime import datetime\n",
    "datetime.now().strftime(\"%Y-%m-%d_%H_%M_%S\")"
   ]
  },
  {
   "cell_type": "code",
   "execution_count": 2,
   "id": "23342d7c-8602-482d-8b22-b7e84532fdb1",
   "metadata": {},
   "outputs": [],
   "source": [
    "import torch\n",
    "import torch.nn as nn\n",
    "from torch.utils.data import Dataset, DataLoader\n",
    "from torchvision import transforms, utils"
   ]
  },
  {
   "cell_type": "code",
   "execution_count": 3,
   "id": "60156a2d-e7a3-4d04-86e1-a48c748c56ca",
   "metadata": {},
   "outputs": [],
   "source": [
    "from module.GlobalSeed import seed_everything\n",
    "from module.DataLoader import MaskDataset#ImageDatasetPreTransform\n",
    "from model.ResNet import ResNet20\n",
    "from module.F1_score import F1_Loss\n"
   ]
  },
  {
   "cell_type": "code",
   "execution_count": 4,
   "id": "26dde9e5-e9d5-467e-8daf-091fd57b9e5b",
   "metadata": {},
   "outputs": [],
   "source": [
    "from torchsummary import summary\n",
    "from torch.utils.tensorboard import SummaryWriter"
   ]
  },
  {
   "cell_type": "code",
   "execution_count": 5,
   "id": "f094de7f-1d40-47eb-93db-d036315087e2",
   "metadata": {},
   "outputs": [],
   "source": [
    "# HyperParameter\n",
    "SEED          = 777\n",
    "DEVICE        = torch.device(\"cuda:0\")\n",
    "BATCH_SIZE    = 128\n",
    "LEARNING_RATE = 0.0001\n",
    "TOTAL_EPOCH   = 100\n",
    "exp_num       = datetime.now().strftime(\"%Y-%m-%d_%H_%M_%S\")"
   ]
  },
  {
   "cell_type": "code",
   "execution_count": 6,
   "id": "c12d14d2-2d17-495f-99ec-885328a23fc9",
   "metadata": {},
   "outputs": [],
   "source": [
    "# set random seed\n",
    "seed_everything(SEED)"
   ]
  },
  {
   "cell_type": "code",
   "execution_count": 7,
   "id": "e923d0ce-8c51-48ae-8250-72895777e967",
   "metadata": {},
   "outputs": [
    {
     "name": "stderr",
     "output_type": "stream",
     "text": [
      "100%|██████████| 2700/2700 [01:08<00:00, 39.63it/s]\n"
     ]
    }
   ],
   "source": [
    "dataset = MaskDataset(\n",
    "    target         = \"gender\",\n",
    "    realign        = True,\n",
    "    csv_path       = '../../input/data/train/train.csv',\n",
    "    images_path    = '../../input/data/train/images/',\n",
    "    pre_transforms = transforms.Compose([\n",
    "        lambda img : transforms.functional.crop(img, 80, 50, 320, 256),\n",
    "        transforms.Resize((64,64)),\n",
    "    ]),\n",
    "    transforms = transforms.Compose([\n",
    "        transforms.RandomHorizontalFlip(p=0.5),\n",
    "        transforms.ToTensor()\n",
    "    ])\n",
    ")\n",
    "\n",
    "size = [int(4500 * 0.6 * 7 * 0.8),int(4500 * 0.6 * 7 * 0.2)]\n",
    "train_set, val_set = torch.utils.data.random_split(dataset, size)"
   ]
  },
  {
   "cell_type": "code",
   "execution_count": 8,
   "id": "255bd231-28b0-4958-a0b0-930a5b973469",
   "metadata": {},
   "outputs": [],
   "source": [
    "train_dataloader = DataLoader(\n",
    "    train_set,\n",
    "    batch_size  = BATCH_SIZE,\n",
    "    shuffle     = True,\n",
    "    sampler     = None,\n",
    "    num_workers = 4,\n",
    "    drop_last   = True\n",
    ")\n",
    "\n",
    "val_dataloader = DataLoader(\n",
    "    val_set,\n",
    "    batch_size  = BATCH_SIZE,\n",
    "    shuffle     = None,\n",
    "    sampler     = None,\n",
    "    num_workers = 4,\n",
    "    drop_last   = True\n",
    ")"
   ]
  },
  {
   "cell_type": "code",
   "execution_count": 9,
   "id": "4ed5d99f-9677-4c00-8d86-c3a02a1f2848",
   "metadata": {},
   "outputs": [
    {
     "name": "stdout",
     "output_type": "stream",
     "text": [
      "torch.Size([128, 3, 64, 64])\n",
      "torch.Size([128])\n"
     ]
    }
   ],
   "source": [
    "single_batch_X, single_batch_y = next(iter(train_dataloader))\n",
    "print(single_batch_X.shape)\n",
    "print(single_batch_y.shape)"
   ]
  },
  {
   "cell_type": "code",
   "execution_count": 10,
   "id": "103037d8-6e85-44c8-bc6a-9dd5ef84ddcf",
   "metadata": {},
   "outputs": [],
   "source": [
    "resnet20 = ResNet20(single_batch_X.shape, DEVICE)"
   ]
  },
  {
   "cell_type": "code",
   "execution_count": 11,
   "id": "8f8a2957-ea5c-4377-b0b3-eff7a8499a24",
   "metadata": {},
   "outputs": [],
   "source": [
    "#summary(resnet20, single_batch_X.shape[1:])"
   ]
  },
  {
   "cell_type": "code",
   "execution_count": 12,
   "id": "6620a852-67e3-42df-8df6-cbabfdb4b634",
   "metadata": {},
   "outputs": [],
   "source": [
    "# Initialization\n",
    "\n",
    "def weight_initialization(module):\n",
    "    module_name = module.__class__.__name__\n",
    "    try:\n",
    "        if isinstance(module,nn.Conv2d): # init conv\n",
    "            nn.init.kaiming_normal_(module.weight)\n",
    "            nn.init.zeros_(module.bias)\n",
    "        if isinstance(module,nn.BatchNorm2d): # init BN\n",
    "            nn.init.constant_(module.weight,1)\n",
    "            nn.init.constant_(module.bias,0)\n",
    "        if isinstance(module,nn.Linear): # lnit dense\n",
    "            nn.init.kaiming_normal_(module.weight)\n",
    "            nn.init.zeros_(module.bias)\n",
    "    except:\n",
    "        print('has no attribute to update')\n"
   ]
  },
  {
   "cell_type": "code",
   "execution_count": 13,
   "id": "a196b840-66a3-4bf1-9ed8-b34fc0665552",
   "metadata": {},
   "outputs": [],
   "source": [
    "resnet20 = resnet20.apply(weight_initialization)"
   ]
  },
  {
   "cell_type": "code",
   "execution_count": 14,
   "id": "88125a76-2fc8-474d-bb9e-738661dc8640",
   "metadata": {},
   "outputs": [],
   "source": [
    "loss = torch.nn.CrossEntropyLoss()\n",
    "f1_loss = F1_Loss(num_classes = 18).cuda()\n",
    "opt = torch.optim.Adam(resnet20.parameters(), lr = LEARNING_RATE)"
   ]
  },
  {
   "cell_type": "code",
   "execution_count": 15,
   "id": "792de726-5f38-4644-bb88-8d45e42a332c",
   "metadata": {},
   "outputs": [
    {
     "name": "stdout",
     "output_type": "stream",
     "text": [
      "Done\n"
     ]
    }
   ],
   "source": [
    "def func_eval(model,data_iter,device):\n",
    "    with torch.no_grad():\n",
    "        n_total,n_correct = 0,0\n",
    "        model.eval() # evaluate (affects DropOut and BN)\n",
    "        for batch_in,batch_out in data_iter:\n",
    "            y_trgt = batch_out.to(device)\n",
    "            model_pred = model(batch_in.to(device))\n",
    "            _,y_pred = torch.max(model_pred.data,1)\n",
    "            n_correct += (y_pred==y_trgt).sum().item()\n",
    "            n_total += batch_in.size(0)\n",
    "        val_accr = (n_correct/n_total)\n",
    "        #model.train() # back to train mode \n",
    "    return val_accr\n",
    "print (\"Done\")"
   ]
  },
  {
   "cell_type": "code",
   "execution_count": 16,
   "id": "5ec97ee5-882c-489d-9413-df9944868148",
   "metadata": {},
   "outputs": [
    {
     "name": "stdout",
     "output_type": "stream",
     "text": [
      "0\n",
      "1\n",
      "2\n",
      "3\n",
      "4\n",
      "5\n",
      "6\n",
      "7\n",
      "8\n",
      "9\n",
      "10\n",
      "11\n",
      "12\n",
      "13\n",
      "14\n",
      "15\n",
      "16\n",
      "17\n",
      "18\n",
      "19\n",
      "20\n",
      "21\n",
      "22\n",
      "23\n",
      "24\n",
      "25\n",
      "26\n",
      "27\n",
      "28\n",
      "29\n",
      "30\n",
      "31\n",
      "32\n",
      "33\n",
      "34\n",
      "35\n",
      "36\n",
      "37\n"
     ]
    },
    {
     "ename": "KeyboardInterrupt",
     "evalue": "",
     "output_type": "error",
     "traceback": [
      "\u001b[0;31m---------------------------------------------------------------------------\u001b[0m",
      "\u001b[0;31mKeyboardInterrupt\u001b[0m                         Traceback (most recent call last)",
      "\u001b[0;32m<ipython-input-16-8fb1256ffa08>\u001b[0m in \u001b[0;36m<module>\u001b[0;34m\u001b[0m\n\u001b[1;32m     20\u001b[0m         \u001b[0mopt\u001b[0m\u001b[0;34m.\u001b[0m\u001b[0mzero_grad\u001b[0m\u001b[0;34m(\u001b[0m\u001b[0;34m)\u001b[0m\u001b[0;34m\u001b[0m\u001b[0;34m\u001b[0m\u001b[0m\n\u001b[1;32m     21\u001b[0m         \u001b[0mloss_val\u001b[0m\u001b[0;34m.\u001b[0m\u001b[0mbackward\u001b[0m\u001b[0;34m(\u001b[0m\u001b[0;34m)\u001b[0m\u001b[0;34m\u001b[0m\u001b[0;34m\u001b[0m\u001b[0m\n\u001b[0;32m---> 22\u001b[0;31m         \u001b[0mopt\u001b[0m\u001b[0;34m.\u001b[0m\u001b[0mstep\u001b[0m\u001b[0;34m(\u001b[0m\u001b[0;34m)\u001b[0m\u001b[0;34m\u001b[0m\u001b[0;34m\u001b[0m\u001b[0m\n\u001b[0m\u001b[1;32m     23\u001b[0m \u001b[0;34m\u001b[0m\u001b[0m\n\u001b[1;32m     24\u001b[0m     \u001b[0;31m#= Validation phase =============\u001b[0m\u001b[0;34m\u001b[0m\u001b[0;34m\u001b[0m\u001b[0;34m\u001b[0m\u001b[0m\n",
      "\u001b[0;32m/opt/conda/lib/python3.8/site-packages/torch/optim/optimizer.py\u001b[0m in \u001b[0;36mwrapper\u001b[0;34m(*args, **kwargs)\u001b[0m\n\u001b[1;32m     86\u001b[0m                 \u001b[0mprofile_name\u001b[0m \u001b[0;34m=\u001b[0m \u001b[0;34m\"Optimizer.step#{}.step\"\u001b[0m\u001b[0;34m.\u001b[0m\u001b[0mformat\u001b[0m\u001b[0;34m(\u001b[0m\u001b[0mobj\u001b[0m\u001b[0;34m.\u001b[0m\u001b[0m__class__\u001b[0m\u001b[0;34m.\u001b[0m\u001b[0m__name__\u001b[0m\u001b[0;34m)\u001b[0m\u001b[0;34m\u001b[0m\u001b[0;34m\u001b[0m\u001b[0m\n\u001b[1;32m     87\u001b[0m                 \u001b[0;32mwith\u001b[0m \u001b[0mtorch\u001b[0m\u001b[0;34m.\u001b[0m\u001b[0mautograd\u001b[0m\u001b[0;34m.\u001b[0m\u001b[0mprofiler\u001b[0m\u001b[0;34m.\u001b[0m\u001b[0mrecord_function\u001b[0m\u001b[0;34m(\u001b[0m\u001b[0mprofile_name\u001b[0m\u001b[0;34m)\u001b[0m\u001b[0;34m:\u001b[0m\u001b[0;34m\u001b[0m\u001b[0;34m\u001b[0m\u001b[0m\n\u001b[0;32m---> 88\u001b[0;31m                     \u001b[0;32mreturn\u001b[0m \u001b[0mfunc\u001b[0m\u001b[0;34m(\u001b[0m\u001b[0;34m*\u001b[0m\u001b[0margs\u001b[0m\u001b[0;34m,\u001b[0m \u001b[0;34m**\u001b[0m\u001b[0mkwargs\u001b[0m\u001b[0;34m)\u001b[0m\u001b[0;34m\u001b[0m\u001b[0;34m\u001b[0m\u001b[0m\n\u001b[0m\u001b[1;32m     89\u001b[0m             \u001b[0;32mreturn\u001b[0m \u001b[0mwrapper\u001b[0m\u001b[0;34m\u001b[0m\u001b[0;34m\u001b[0m\u001b[0m\n\u001b[1;32m     90\u001b[0m \u001b[0;34m\u001b[0m\u001b[0m\n",
      "\u001b[0;32m/opt/conda/lib/python3.8/site-packages/torch/autograd/grad_mode.py\u001b[0m in \u001b[0;36mdecorate_context\u001b[0;34m(*args, **kwargs)\u001b[0m\n\u001b[1;32m     26\u001b[0m         \u001b[0;32mdef\u001b[0m \u001b[0mdecorate_context\u001b[0m\u001b[0;34m(\u001b[0m\u001b[0;34m*\u001b[0m\u001b[0margs\u001b[0m\u001b[0;34m,\u001b[0m \u001b[0;34m**\u001b[0m\u001b[0mkwargs\u001b[0m\u001b[0;34m)\u001b[0m\u001b[0;34m:\u001b[0m\u001b[0;34m\u001b[0m\u001b[0;34m\u001b[0m\u001b[0m\n\u001b[1;32m     27\u001b[0m             \u001b[0;32mwith\u001b[0m \u001b[0mself\u001b[0m\u001b[0;34m.\u001b[0m\u001b[0m__class__\u001b[0m\u001b[0;34m(\u001b[0m\u001b[0;34m)\u001b[0m\u001b[0;34m:\u001b[0m\u001b[0;34m\u001b[0m\u001b[0;34m\u001b[0m\u001b[0m\n\u001b[0;32m---> 28\u001b[0;31m                 \u001b[0;32mreturn\u001b[0m \u001b[0mfunc\u001b[0m\u001b[0;34m(\u001b[0m\u001b[0;34m*\u001b[0m\u001b[0margs\u001b[0m\u001b[0;34m,\u001b[0m \u001b[0;34m**\u001b[0m\u001b[0mkwargs\u001b[0m\u001b[0;34m)\u001b[0m\u001b[0;34m\u001b[0m\u001b[0;34m\u001b[0m\u001b[0m\n\u001b[0m\u001b[1;32m     29\u001b[0m         \u001b[0;32mreturn\u001b[0m \u001b[0mcast\u001b[0m\u001b[0;34m(\u001b[0m\u001b[0mF\u001b[0m\u001b[0;34m,\u001b[0m \u001b[0mdecorate_context\u001b[0m\u001b[0;34m)\u001b[0m\u001b[0;34m\u001b[0m\u001b[0;34m\u001b[0m\u001b[0m\n\u001b[1;32m     30\u001b[0m \u001b[0;34m\u001b[0m\u001b[0m\n",
      "\u001b[0;32m/opt/conda/lib/python3.8/site-packages/torch/optim/adam.py\u001b[0m in \u001b[0;36mstep\u001b[0;34m(self, closure)\u001b[0m\n\u001b[1;32m    105\u001b[0m                     \u001b[0mstate_steps\u001b[0m\u001b[0;34m.\u001b[0m\u001b[0mappend\u001b[0m\u001b[0;34m(\u001b[0m\u001b[0mstate\u001b[0m\u001b[0;34m[\u001b[0m\u001b[0;34m'step'\u001b[0m\u001b[0;34m]\u001b[0m\u001b[0;34m)\u001b[0m\u001b[0;34m\u001b[0m\u001b[0;34m\u001b[0m\u001b[0m\n\u001b[1;32m    106\u001b[0m \u001b[0;34m\u001b[0m\u001b[0m\n\u001b[0;32m--> 107\u001b[0;31m             F.adam(params_with_grad,\n\u001b[0m\u001b[1;32m    108\u001b[0m                    \u001b[0mgrads\u001b[0m\u001b[0;34m,\u001b[0m\u001b[0;34m\u001b[0m\u001b[0;34m\u001b[0m\u001b[0m\n\u001b[1;32m    109\u001b[0m                    \u001b[0mexp_avgs\u001b[0m\u001b[0;34m,\u001b[0m\u001b[0;34m\u001b[0m\u001b[0;34m\u001b[0m\u001b[0m\n",
      "\u001b[0;32m/opt/conda/lib/python3.8/site-packages/torch/optim/_functional.py\u001b[0m in \u001b[0;36madam\u001b[0;34m(params, grads, exp_avgs, exp_avg_sqs, max_exp_avg_sqs, state_steps, amsgrad, beta1, beta2, lr, weight_decay, eps)\u001b[0m\n\u001b[1;32m     96\u001b[0m         \u001b[0mstep_size\u001b[0m \u001b[0;34m=\u001b[0m \u001b[0mlr\u001b[0m \u001b[0;34m/\u001b[0m \u001b[0mbias_correction1\u001b[0m\u001b[0;34m\u001b[0m\u001b[0;34m\u001b[0m\u001b[0m\n\u001b[1;32m     97\u001b[0m \u001b[0;34m\u001b[0m\u001b[0m\n\u001b[0;32m---> 98\u001b[0;31m         \u001b[0mparam\u001b[0m\u001b[0;34m.\u001b[0m\u001b[0maddcdiv_\u001b[0m\u001b[0;34m(\u001b[0m\u001b[0mexp_avg\u001b[0m\u001b[0;34m,\u001b[0m \u001b[0mdenom\u001b[0m\u001b[0;34m,\u001b[0m \u001b[0mvalue\u001b[0m\u001b[0;34m=\u001b[0m\u001b[0;34m-\u001b[0m\u001b[0mstep_size\u001b[0m\u001b[0;34m)\u001b[0m\u001b[0;34m\u001b[0m\u001b[0;34m\u001b[0m\u001b[0m\n\u001b[0m\u001b[1;32m     99\u001b[0m \u001b[0;34m\u001b[0m\u001b[0m\n\u001b[1;32m    100\u001b[0m \u001b[0;34m\u001b[0m\u001b[0m\n",
      "\u001b[0;31mKeyboardInterrupt\u001b[0m: "
     ]
    }
   ],
   "source": [
    "tr_writer = SummaryWriter('logs/exp_%s/tr'%exp_num)\n",
    "val_writer = SummaryWriter('logs/exp_%s/val'%exp_num)\n",
    "\n",
    "global_step = 0\n",
    "\n",
    "for ep in range(TOTAL_EPOCH):\n",
    "    #= Training phase =========\n",
    "    tr_mean_loss, tr_mean_f1 = 0, 0\n",
    "    for X, y in iter(train_dataloader):\n",
    "        \n",
    "        resnet20.train()\n",
    "        predict = resnet20(X.to(DEVICE))\n",
    "        loss_val = loss(predict, y.to(DEVICE))\n",
    "        tr_mean_loss += loss_val\n",
    "        f1_val = f1_loss(predict, y.to(DEVICE))\n",
    "        tr_mean_f1 += f1_val\n",
    "        \n",
    "        p = 0.01\n",
    "        loss_val = (1-p)*loss_val + p*f1_val\n",
    "        \n",
    "        opt.zero_grad()\n",
    "        loss_val.backward()\n",
    "        opt.step()\n",
    "        \n",
    "    #= Validation phase =============\n",
    "    val_mean_loss, val_mean_f1 = 0, 0\n",
    "    with torch.no_grad():\n",
    "        for X, y in iter(val_dataloader):\n",
    "            resnet20.eval()\n",
    "            predict = resnet20(X.to(DEVICE))\n",
    "            loss_val = loss(predict, y.to(DEVICE))\n",
    "            val_mean_loss += loss_val\n",
    "            val_mean_f1 += f1_loss(predict, y.to(DEVICE))\n",
    "        \n",
    "    #= Training writer =========\n",
    "    tr_writer.add_scalar(\n",
    "        'loss',\n",
    "        tr_mean_loss / len(train_dataloader),\n",
    "        ep\n",
    "    )\n",
    "    tr_writer.add_scalar(\n",
    "        'score/acc',\n",
    "        func_eval(resnet20,train_dataloader,DEVICE),\n",
    "        ep\n",
    "    )\n",
    "    tr_writer.add_scalar(\n",
    "        'score/F1',\n",
    "        tr_mean_f1 / len(train_dataloader),\n",
    "        ep\n",
    "    )\n",
    "    \n",
    "    #= Validation writer =========\n",
    "    val_writer.add_scalar(\n",
    "        'loss',\n",
    "        val_mean_loss / len(val_dataloader),\n",
    "        ep\n",
    "    )\n",
    "    val_writer.add_scalar(\n",
    "        'score/acc',\n",
    "        func_eval(resnet20,val_dataloader,DEVICE),\n",
    "        ep\n",
    "    )\n",
    "    val_writer.add_scalar(\n",
    "        'score/F1',\n",
    "        val_mean_f1 / len(train_dataloader),\n",
    "        ep\n",
    "    )\n",
    "    \n",
    "        \n",
    "    print(ep)"
   ]
  },
  {
   "cell_type": "code",
   "execution_count": 17,
   "id": "05d9b32b-c83b-4ff1-aa0b-93b9a74c6573",
   "metadata": {},
   "outputs": [],
   "source": [
    "torch.save(resnet20,'./saved_model/model_%s_ep_%d.pt'%(exp_num,ep))\n",
    "torch.save(resnet20.state_dict(),'./saved_model/model_weights_%s_ep_%d.pt'%(exp_num,ep))"
   ]
  },
  {
   "cell_type": "code",
   "execution_count": null,
   "id": "5f1e47cd-f09b-4965-87f0-ae97c8a45cf4",
   "metadata": {},
   "outputs": [],
   "source": []
  }
 ],
 "metadata": {
  "kernelspec": {
   "display_name": "Python 3 (ipykernel)",
   "language": "python",
   "name": "python3"
  },
  "language_info": {
   "codemirror_mode": {
    "name": "ipython",
    "version": 3
   },
   "file_extension": ".py",
   "mimetype": "text/x-python",
   "name": "python",
   "nbconvert_exporter": "python",
   "pygments_lexer": "ipython3",
   "version": "3.8.5"
  }
 },
 "nbformat": 4,
 "nbformat_minor": 5
}
