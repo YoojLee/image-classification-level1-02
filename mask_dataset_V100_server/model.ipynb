{
 "cells": [
  {
   "cell_type": "markdown",
   "id": "3c0e00d4-4a3f-4fbf-a08b-27d632c971fb",
   "metadata": {},
   "source": [
    "# 딥러닝 만들기\n",
    "\n",
    "1. 데이터 분석\n",
    "2. 데이터 불러오기\n",
    "3. 모델 만들기\n",
    "4. 훈련 루프 짜기\n",
    "5. 테스트 만들기"
   ]
  },
  {
   "cell_type": "code",
   "execution_count": 1,
   "id": "29e72e84-b651-40a4-8761-468220ed1842",
   "metadata": {},
   "outputs": [],
   "source": [
    "import torch\n",
    "from torch import nn"
   ]
  },
  {
   "cell_type": "code",
   "execution_count": 2,
   "id": "f7d97e0f-111a-412c-8cba-453994d0b50a",
   "metadata": {},
   "outputs": [],
   "source": [
    "from torch.utils.tensorboard import SummaryWriter"
   ]
  },
  {
   "cell_type": "code",
   "execution_count": 3,
   "id": "ebd83500-753c-474a-ba1c-c3aec74cff53",
   "metadata": {},
   "outputs": [],
   "source": [
    "from model.ResNet import ResNet20"
   ]
  },
  {
   "cell_type": "code",
   "execution_count": 4,
   "id": "d1e5babc-263d-4628-b352-7a51526d4a5f",
   "metadata": {},
   "outputs": [
    {
     "name": "stdout",
     "output_type": "stream",
     "text": [
      "device:[cuda:0].\n"
     ]
    }
   ],
   "source": [
    "DEVICE = torch.device('cuda:0') # if torch.cuda.is_available() else 'cpu')\n",
    "print (\"device:[%s].\"%(DEVICE))"
   ]
  },
  {
   "cell_type": "code",
   "execution_count": 5,
   "id": "aa7d3f96-f067-4fa1-b4e2-e1e92e8fda14",
   "metadata": {},
   "outputs": [],
   "source": [
    "input_shape = (10, 3, 128, 128)\n",
    "resnet20 = ResNet20(input_shape, DEVICE)"
   ]
  },
  {
   "cell_type": "code",
   "execution_count": null,
   "id": "24fcdf43-94c7-4be6-8f34-7cc54b33bda7",
   "metadata": {},
   "outputs": [],
   "source": [
    "writer = SummaryWriter('logs')"
   ]
  },
  {
   "cell_type": "code",
   "execution_count": 42,
   "id": "db37cffb-541a-4010-8045-c21a0191aff4",
   "metadata": {},
   "outputs": [],
   "source": [
    "input_shape = (10, 3, 64, 64)\n",
    "zeros = torch.zeros(input_shape)\n",
    "\n",
    "input_shape = tuple(zeros.shape)\n",
    "\n",
    "resnet20 = ResNet20(input_shape, DEVICE)\n",
    "writer.add_graph(resnet20, zeros.to(DEVICE))"
   ]
  },
  {
   "cell_type": "code",
   "execution_count": null,
   "id": "af38761c-53c6-4899-aff3-c211039a6b5c",
   "metadata": {},
   "outputs": [],
   "source": []
  }
 ],
 "metadata": {
  "kernelspec": {
   "display_name": "Python 3 (ipykernel)",
   "language": "python",
   "name": "python3"
  },
  "language_info": {
   "codemirror_mode": {
    "name": "ipython",
    "version": 3
   },
   "file_extension": ".py",
   "mimetype": "text/x-python",
   "name": "python",
   "nbconvert_exporter": "python",
   "pygments_lexer": "ipython3",
   "version": "3.8.5"
  }
 },
 "nbformat": 4,
 "nbformat_minor": 5
}
