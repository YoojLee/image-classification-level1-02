{
 "cells": [
  {
   "cell_type": "code",
   "execution_count": 7,
   "id": "5d82754f-2c82-489e-8081-e8d27e67f420",
   "metadata": {},
   "outputs": [
    {
     "data": {
      "text/html": [
       "<div>\n",
       "<style scoped>\n",
       "    .dataframe tbody tr th:only-of-type {\n",
       "        vertical-align: middle;\n",
       "    }\n",
       "\n",
       "    .dataframe tbody tr th {\n",
       "        vertical-align: top;\n",
       "    }\n",
       "\n",
       "    .dataframe thead th {\n",
       "        text-align: right;\n",
       "    }\n",
       "</style>\n",
       "<table border=\"1\" class=\"dataframe\">\n",
       "  <thead>\n",
       "    <tr style=\"text-align: right;\">\n",
       "      <th></th>\n",
       "      <th>id</th>\n",
       "      <th>gender</th>\n",
       "      <th>race</th>\n",
       "      <th>age</th>\n",
       "      <th>path</th>\n",
       "    </tr>\n",
       "  </thead>\n",
       "  <tbody>\n",
       "    <tr>\n",
       "      <th>0</th>\n",
       "      <td>000001</td>\n",
       "      <td>female</td>\n",
       "      <td>Asian</td>\n",
       "      <td>45</td>\n",
       "      <td>000001_female_Asian_45</td>\n",
       "    </tr>\n",
       "    <tr>\n",
       "      <th>1</th>\n",
       "      <td>000002</td>\n",
       "      <td>female</td>\n",
       "      <td>Asian</td>\n",
       "      <td>52</td>\n",
       "      <td>000002_female_Asian_52</td>\n",
       "    </tr>\n",
       "    <tr>\n",
       "      <th>2</th>\n",
       "      <td>000004</td>\n",
       "      <td>male</td>\n",
       "      <td>Asian</td>\n",
       "      <td>54</td>\n",
       "      <td>000004_male_Asian_54</td>\n",
       "    </tr>\n",
       "    <tr>\n",
       "      <th>3</th>\n",
       "      <td>000005</td>\n",
       "      <td>female</td>\n",
       "      <td>Asian</td>\n",
       "      <td>58</td>\n",
       "      <td>000005_female_Asian_58</td>\n",
       "    </tr>\n",
       "    <tr>\n",
       "      <th>4</th>\n",
       "      <td>000006</td>\n",
       "      <td>female</td>\n",
       "      <td>Asian</td>\n",
       "      <td>59</td>\n",
       "      <td>000006_female_Asian_59</td>\n",
       "    </tr>\n",
       "  </tbody>\n",
       "</table>\n",
       "</div>"
      ],
      "text/plain": [
       "       id  gender   race  age                    path\n",
       "0  000001  female  Asian   45  000001_female_Asian_45\n",
       "1  000002  female  Asian   52  000002_female_Asian_52\n",
       "2  000004    male  Asian   54    000004_male_Asian_54\n",
       "3  000005  female  Asian   58  000005_female_Asian_58\n",
       "4  000006  female  Asian   59  000006_female_Asian_59"
      ]
     },
     "execution_count": 7,
     "metadata": {},
     "output_type": "execute_result"
    }
   ],
   "source": [
    "import pandas as pd\n",
    "import numpy as np\n",
    "\n",
    "from sklearn.model_selection import train_test_split\n",
    "\n",
    "import seaborn as sns\n",
    "from matplotlib import pyplot as plt\n",
    "%matplotlib inline\n",
    "\n",
    "people = pd.read_csv('/opt/ml/input/data/train/train.csv')\n",
    "people.head()"
   ]
  },
  {
   "cell_type": "markdown",
   "id": "fec8dfe0-adb4-42d8-9a3c-b7287ef9ef47",
   "metadata": {},
   "source": [
    "Split for Age Detection"
   ]
  },
  {
   "cell_type": "code",
   "execution_count": 8,
   "id": "c83de8a9-f8e2-40b0-b457-b52508667e80",
   "metadata": {},
   "outputs": [
    {
     "data": {
      "text/plain": [
       "0    1281\n",
       "1    1227\n",
       "2     192\n",
       "Name: age, dtype: int64"
      ]
     },
     "execution_count": 8,
     "metadata": {},
     "output_type": "execute_result"
    }
   ],
   "source": [
    "def map_age(x):\n",
    "    if x < 30:\n",
    "        return 0\n",
    "    elif x < 60:\n",
    "        return 1\n",
    "    else:\n",
    "        return 2\n",
    "    \n",
    "people['age'] = people['age'].apply(map_age)\n",
    "people['age'].value_counts().sort_index()"
   ]
  },
  {
   "cell_type": "code",
   "execution_count": 40,
   "id": "1e914bf3-e121-4fd4-bb7b-9846a53793c5",
   "metadata": {},
   "outputs": [],
   "source": [
    "train, valid = train_test_split(people, test_size=0.1, random_state=131, stratify=people['age'])"
   ]
  },
  {
   "cell_type": "code",
   "execution_count": 42,
   "id": "5eb330ef-aed8-4816-8754-9ba6dd7ca4fc",
   "metadata": {},
   "outputs": [],
   "source": [
    "from glob import glob\n",
    "import os\n",
    "\n",
    "def make_full_path(labels, pred, base):\n",
    "    data = []\n",
    "    for path, prd in zip(labels['path'], labels[pred]):\n",
    "        img_folder = glob(os.path.join(base, path, '*'))\n",
    "        for img in img_folder:\n",
    "            img_dict = {}\n",
    "            img_dict['path'] = img\n",
    "            img_dict[pred] = prd\n",
    "            data.append(img_dict)\n",
    "    return pd.DataFrame(data)"
   ]
  },
  {
   "cell_type": "code",
   "execution_count": 43,
   "id": "4ce5bfc4-1903-4147-8e63-8316e067453c",
   "metadata": {},
   "outputs": [],
   "source": [
    "base_dir = '/opt/ml/input/data/train/images/'\n",
    "train = make_full_path(train, 'age', base_dir)\n",
    "valid = make_full_path(valid, 'age', base_dir)"
   ]
  },
  {
   "cell_type": "code",
   "execution_count": 37,
   "id": "1c4d70b7-9f63-460b-a168-17185ff81567",
   "metadata": {},
   "outputs": [],
   "source": [
    "os.makedirs('/opt/ml/split_labels/age/')"
   ]
  },
  {
   "cell_type": "code",
   "execution_count": 48,
   "id": "36831ca4-8504-43bd-9bda-361968b17870",
   "metadata": {},
   "outputs": [],
   "source": [
    "train.to_csv('/opt/ml/split_labels/age/train.csv', index=False)\n",
    "valid.to_csv('/opt/ml/split_labels/age/valid.csv', index=False)"
   ]
  },
  {
   "cell_type": "markdown",
   "id": "f66fc2d7-db43-4913-be2a-2e2765567938",
   "metadata": {},
   "source": [
    "Split for Gender Detection"
   ]
  },
  {
   "cell_type": "code",
   "execution_count": 49,
   "id": "3df0b9ae-7184-4c8f-8002-c2416682e7e7",
   "metadata": {},
   "outputs": [],
   "source": [
    "os.makedirs('/opt/ml/split_labels/gender/')"
   ]
  },
  {
   "cell_type": "code",
   "execution_count": 50,
   "id": "fe524283-be40-4493-b6d0-cdb304e40798",
   "metadata": {},
   "outputs": [
    {
     "data": {
      "text/plain": [
       "(       id  gender   race  age                    path\n",
       " 0  000001       1  Asian    1  000001_female_Asian_45\n",
       " 1  000002       1  Asian    1  000002_female_Asian_52\n",
       " 2  000004       0  Asian    1    000004_male_Asian_54\n",
       " 3  000005       1  Asian    1  000005_female_Asian_58\n",
       " 4  000006       1  Asian    1  000006_female_Asian_59,\n",
       " 2700)"
      ]
     },
     "execution_count": 50,
     "metadata": {},
     "output_type": "execute_result"
    }
   ],
   "source": [
    "def gender_map(x):\n",
    "    if x == 'male':\n",
    "        return 0\n",
    "    return 1\n",
    "\n",
    "people['gender'] = people['gender'].apply(gender_map)\n",
    "people.head(), len(people)"
   ]
  },
  {
   "cell_type": "code",
   "execution_count": 51,
   "id": "81043f48-3618-46d6-9e09-aee7e3d8a024",
   "metadata": {},
   "outputs": [],
   "source": [
    "train, valid = train_test_split(people, test_size=0.1, random_state=77, stratify=people['gender'])"
   ]
  },
  {
   "cell_type": "code",
   "execution_count": 52,
   "id": "14b7d377-a79c-447c-b022-9d64d7cd63ba",
   "metadata": {},
   "outputs": [],
   "source": [
    "base_dir = '/opt/ml/input/data/train/images/'\n",
    "train = make_full_path(train, 'gender', base_dir)\n",
    "valid = make_full_path(valid, 'gender', base_dir)"
   ]
  },
  {
   "cell_type": "code",
   "execution_count": 56,
   "id": "b86db175-c307-4244-ad80-41b5cc7e8d92",
   "metadata": {},
   "outputs": [
    {
     "data": {
      "text/plain": [
       "(17010, 1890)"
      ]
     },
     "execution_count": 56,
     "metadata": {},
     "output_type": "execute_result"
    }
   ],
   "source": [
    "female_male = ['006359', '006360', '006361', '006362', '006363', '006364']\n",
    "male_female = ['001498-1', '004432']\n",
    "train['id'] = [path.split('/')[-2].split('_')[0] for path in train['path']]\n",
    "valid['id'] = [path.split('/')[-2].split('_')[0] for path in valid['path']]\n",
    "train.loc[train['id'].isin(female_male),'gender'] = 0\n",
    "valid.loc[valid['id'].isin(female_male),'gender'] = 0\n",
    "train.loc[train['id'].isin(male_female),'gender'] = 1\n",
    "valid.loc[valid['id'].isin(male_female),'gender'] = 1"
   ]
  },
  {
   "cell_type": "code",
   "execution_count": 59,
   "id": "95996829-8667-4b33-b95d-e47a674d9c18",
   "metadata": {},
   "outputs": [
    {
     "data": {
      "text/html": [
       "<div>\n",
       "<style scoped>\n",
       "    .dataframe tbody tr th:only-of-type {\n",
       "        vertical-align: middle;\n",
       "    }\n",
       "\n",
       "    .dataframe tbody tr th {\n",
       "        vertical-align: top;\n",
       "    }\n",
       "\n",
       "    .dataframe thead th {\n",
       "        text-align: right;\n",
       "    }\n",
       "</style>\n",
       "<table border=\"1\" class=\"dataframe\">\n",
       "  <thead>\n",
       "    <tr style=\"text-align: right;\">\n",
       "      <th></th>\n",
       "      <th>path</th>\n",
       "      <th>gender</th>\n",
       "    </tr>\n",
       "  </thead>\n",
       "  <tbody>\n",
       "    <tr>\n",
       "      <th>0</th>\n",
       "      <td>/opt/ml/input/data/train/images/000278_female_...</td>\n",
       "      <td>1</td>\n",
       "    </tr>\n",
       "    <tr>\n",
       "      <th>1</th>\n",
       "      <td>/opt/ml/input/data/train/images/000278_female_...</td>\n",
       "      <td>1</td>\n",
       "    </tr>\n",
       "    <tr>\n",
       "      <th>2</th>\n",
       "      <td>/opt/ml/input/data/train/images/000278_female_...</td>\n",
       "      <td>1</td>\n",
       "    </tr>\n",
       "    <tr>\n",
       "      <th>3</th>\n",
       "      <td>/opt/ml/input/data/train/images/000278_female_...</td>\n",
       "      <td>1</td>\n",
       "    </tr>\n",
       "    <tr>\n",
       "      <th>4</th>\n",
       "      <td>/opt/ml/input/data/train/images/000278_female_...</td>\n",
       "      <td>1</td>\n",
       "    </tr>\n",
       "    <tr>\n",
       "      <th>...</th>\n",
       "      <td>...</td>\n",
       "      <td>...</td>\n",
       "    </tr>\n",
       "    <tr>\n",
       "      <th>17005</th>\n",
       "      <td>/opt/ml/input/data/train/images/004259_male_As...</td>\n",
       "      <td>0</td>\n",
       "    </tr>\n",
       "    <tr>\n",
       "      <th>17006</th>\n",
       "      <td>/opt/ml/input/data/train/images/004259_male_As...</td>\n",
       "      <td>0</td>\n",
       "    </tr>\n",
       "    <tr>\n",
       "      <th>17007</th>\n",
       "      <td>/opt/ml/input/data/train/images/004259_male_As...</td>\n",
       "      <td>0</td>\n",
       "    </tr>\n",
       "    <tr>\n",
       "      <th>17008</th>\n",
       "      <td>/opt/ml/input/data/train/images/004259_male_As...</td>\n",
       "      <td>0</td>\n",
       "    </tr>\n",
       "    <tr>\n",
       "      <th>17009</th>\n",
       "      <td>/opt/ml/input/data/train/images/004259_male_As...</td>\n",
       "      <td>0</td>\n",
       "    </tr>\n",
       "  </tbody>\n",
       "</table>\n",
       "<p>17010 rows × 2 columns</p>\n",
       "</div>"
      ],
      "text/plain": [
       "                                                    path  gender\n",
       "0      /opt/ml/input/data/train/images/000278_female_...       1\n",
       "1      /opt/ml/input/data/train/images/000278_female_...       1\n",
       "2      /opt/ml/input/data/train/images/000278_female_...       1\n",
       "3      /opt/ml/input/data/train/images/000278_female_...       1\n",
       "4      /opt/ml/input/data/train/images/000278_female_...       1\n",
       "...                                                  ...     ...\n",
       "17005  /opt/ml/input/data/train/images/004259_male_As...       0\n",
       "17006  /opt/ml/input/data/train/images/004259_male_As...       0\n",
       "17007  /opt/ml/input/data/train/images/004259_male_As...       0\n",
       "17008  /opt/ml/input/data/train/images/004259_male_As...       0\n",
       "17009  /opt/ml/input/data/train/images/004259_male_As...       0\n",
       "\n",
       "[17010 rows x 2 columns]"
      ]
     },
     "execution_count": 59,
     "metadata": {},
     "output_type": "execute_result"
    }
   ],
   "source": [
    "train = train.drop('id', axis=1)\n",
    "valid = valid.drop('id', axis=1)"
   ]
  },
  {
   "cell_type": "code",
   "execution_count": 60,
   "id": "09ff1c3f-6a9f-4c9f-97e6-e87ddb483b2d",
   "metadata": {},
   "outputs": [],
   "source": [
    "train.to_csv('/opt/ml/split_labels/gender/train.csv', index=False)\n",
    "valid.to_csv('/opt/ml/split_labels/gender/valid.csv', index=False)"
   ]
  },
  {
   "cell_type": "code",
   "execution_count": null,
   "id": "c08aa26e-afcd-450d-95d1-9bd665e27b55",
   "metadata": {},
   "outputs": [],
   "source": []
  }
 ],
 "metadata": {
  "kernelspec": {
   "display_name": "Python 3 (ipykernel)",
   "language": "python",
   "name": "python3"
  },
  "language_info": {
   "codemirror_mode": {
    "name": "ipython",
    "version": 3
   },
   "file_extension": ".py",
   "mimetype": "text/x-python",
   "name": "python",
   "nbconvert_exporter": "python",
   "pygments_lexer": "ipython3",
   "version": "3.8.5"
  }
 },
 "nbformat": 4,
 "nbformat_minor": 5
}
