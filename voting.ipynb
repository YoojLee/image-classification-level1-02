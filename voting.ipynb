{
 "cells": [
  {
   "cell_type": "code",
   "execution_count": 1,
   "id": "b7d23faf-e0de-4493-962d-e7db4a91c70d",
   "metadata": {},
   "outputs": [],
   "source": [
    "import pandas as pd\n",
    "import numpy as np"
   ]
  },
  {
   "cell_type": "code",
   "execution_count": 2,
   "id": "9a603068-c1ae-4317-ae74-1c3f262674af",
   "metadata": {},
   "outputs": [],
   "source": [
    "r1 = pd.read_csv('/opt/ml/output-3.csv')\n",
    "r2 = pd.read_csv('/opt/ml/output-4.csv')\n",
    "r3 = pd.read_csv('/opt/ml/output-5.csv')"
   ]
  },
  {
   "cell_type": "code",
   "execution_count": 3,
   "id": "97796e74-dc13-4568-a7c6-4215741f6941",
   "metadata": {},
   "outputs": [],
   "source": [
    "def mapping_age(x):\n",
    "    if x%3 == 0:\n",
    "        return 0\n",
    "    elif x%3 == 1:\n",
    "        return 1\n",
    "    return 2\n",
    "    \n",
    "def mapping_gender(x):\n",
    "    if (x//3)%2 == 0:\n",
    "        return 0\n",
    "    return 1\n",
    "\n",
    "def mapping_mask(x):\n",
    "    if x//6 == 0:\n",
    "        return 0\n",
    "    elif x//6 == 1:\n",
    "        return 1\n",
    "    return 2"
   ]
  },
  {
   "cell_type": "code",
   "execution_count": 4,
   "id": "296411c7-3039-46c9-af1b-9c9ce93d2f4b",
   "metadata": {},
   "outputs": [],
   "source": [
    "r1['age'] = r1['ans'].apply(mapping_age)\n",
    "r2['age'] = r2['ans'].apply(mapping_age)\n",
    "r3['age'] = r3['ans'].apply(mapping_age)"
   ]
  },
  {
   "cell_type": "code",
   "execution_count": 5,
   "id": "caec65d7-3d1d-4694-8298-9a5dc98e311c",
   "metadata": {},
   "outputs": [],
   "source": [
    "r1['gender'] = r1['ans'].apply(mapping_gender)\n",
    "r2['gender'] = r2['ans'].apply(mapping_gender)\n",
    "r3['gender'] = r3['ans'].apply(mapping_gender)"
   ]
  },
  {
   "cell_type": "code",
   "execution_count": 6,
   "id": "8bcac72a-8954-468f-bb0a-f9b15a608bea",
   "metadata": {},
   "outputs": [],
   "source": [
    "r1['mask'] = r1['ans'].apply(mapping_mask)\n",
    "r2['mask'] = r2['ans'].apply(mapping_mask)\n",
    "r3['mask'] = r3['ans'].apply(mapping_mask)"
   ]
  },
  {
   "cell_type": "code",
   "execution_count": 7,
   "id": "821de54e-b308-4d7b-b849-9f424fa7fae9",
   "metadata": {},
   "outputs": [
    {
     "data": {
      "text/html": [
       "<div>\n",
       "<style scoped>\n",
       "    .dataframe tbody tr th:only-of-type {\n",
       "        vertical-align: middle;\n",
       "    }\n",
       "\n",
       "    .dataframe tbody tr th {\n",
       "        vertical-align: top;\n",
       "    }\n",
       "\n",
       "    .dataframe thead th {\n",
       "        text-align: right;\n",
       "    }\n",
       "</style>\n",
       "<table border=\"1\" class=\"dataframe\">\n",
       "  <thead>\n",
       "    <tr style=\"text-align: right;\">\n",
       "      <th></th>\n",
       "      <th>ImageID</th>\n",
       "      <th>ans</th>\n",
       "      <th>age</th>\n",
       "      <th>gender</th>\n",
       "      <th>mask</th>\n",
       "    </tr>\n",
       "  </thead>\n",
       "  <tbody>\n",
       "    <tr>\n",
       "      <th>0</th>\n",
       "      <td>cbc5c6e168e63498590db46022617123f1fe1268.jpg</td>\n",
       "      <td>13</td>\n",
       "      <td>1</td>\n",
       "      <td>0</td>\n",
       "      <td>2</td>\n",
       "    </tr>\n",
       "    <tr>\n",
       "      <th>1</th>\n",
       "      <td>0e72482bf56b3581c081f7da2a6180b8792c7089.jpg</td>\n",
       "      <td>1</td>\n",
       "      <td>1</td>\n",
       "      <td>0</td>\n",
       "      <td>0</td>\n",
       "    </tr>\n",
       "    <tr>\n",
       "      <th>2</th>\n",
       "      <td>b549040c49190cedc41327748aeb197c1670f14d.jpg</td>\n",
       "      <td>13</td>\n",
       "      <td>1</td>\n",
       "      <td>0</td>\n",
       "      <td>2</td>\n",
       "    </tr>\n",
       "    <tr>\n",
       "      <th>3</th>\n",
       "      <td>4f9cb2a045c6d5b9e50ad3459ea7b791eb6e18bc.jpg</td>\n",
       "      <td>13</td>\n",
       "      <td>1</td>\n",
       "      <td>0</td>\n",
       "      <td>2</td>\n",
       "    </tr>\n",
       "    <tr>\n",
       "      <th>4</th>\n",
       "      <td>248428d9a4a5b6229a7081c32851b90cb8d38d0c.jpg</td>\n",
       "      <td>12</td>\n",
       "      <td>0</td>\n",
       "      <td>0</td>\n",
       "      <td>2</td>\n",
       "    </tr>\n",
       "  </tbody>\n",
       "</table>\n",
       "</div>"
      ],
      "text/plain": [
       "                                        ImageID  ans  age  gender  mask\n",
       "0  cbc5c6e168e63498590db46022617123f1fe1268.jpg   13    1       0     2\n",
       "1  0e72482bf56b3581c081f7da2a6180b8792c7089.jpg    1    1       0     0\n",
       "2  b549040c49190cedc41327748aeb197c1670f14d.jpg   13    1       0     2\n",
       "3  4f9cb2a045c6d5b9e50ad3459ea7b791eb6e18bc.jpg   13    1       0     2\n",
       "4  248428d9a4a5b6229a7081c32851b90cb8d38d0c.jpg   12    0       0     2"
      ]
     },
     "execution_count": 7,
     "metadata": {},
     "output_type": "execute_result"
    }
   ],
   "source": [
    "r1.head()"
   ]
  },
  {
   "cell_type": "code",
   "execution_count": 18,
   "id": "d427c8ed-9e05-4408-aa70-5c07ad1844ed",
   "metadata": {},
   "outputs": [],
   "source": [
    "data = r3"
   ]
  },
  {
   "cell_type": "code",
   "execution_count": 19,
   "id": "1cd4e343-22f6-46ae-b686-29df81416bb2",
   "metadata": {},
   "outputs": [
    {
     "data": {
      "text/plain": [
       "<matplotlib.axes._subplots.AxesSubplot at 0x7f1be8a685e0>"
      ]
     },
     "execution_count": 19,
     "metadata": {},
     "output_type": "execute_result"
    },
    {
     "data": {
      "image/png": "[encoded data removed]",
      "text/plain": [
       "<Figure size 432x288 with 1 Axes>"
      ]
     },
     "metadata": {
      "needs_background": "light"
     },
     "output_type": "display_data"
    }
   ],
   "source": [
    "import seaborn as sns\n",
    "sns.countplot(x='age', data=data)"
   ]
  },
  {
   "cell_type": "code",
   "execution_count": 20,
   "id": "1bf3fbf3-f533-40d1-bf72-1b652331da29",
   "metadata": {},
   "outputs": [
    {
     "data": {
      "text/plain": [
       "<matplotlib.axes._subplots.AxesSubplot at 0x7f1be89c3310>"
      ]
     },
     "execution_count": 20,
     "metadata": {},
     "output_type": "execute_result"
    },
    {
     "data": {
      "image/png": "[encoded data removed]",
      "text/plain": [
       "<Figure size 432x288 with 1 Axes>"
      ]
     },
     "metadata": {
      "needs_background": "light"
     },
     "output_type": "display_data"
    }
   ],
   "source": [
    "sns.countplot(x='gender', data=data)"
   ]
  },
  {
   "cell_type": "code",
   "execution_count": 21,
   "id": "2b617a6c-837d-4f2c-8c7e-9d6c8d270bbb",
   "metadata": {},
   "outputs": [
    {
     "data": {
      "text/plain": [
       "<matplotlib.axes._subplots.AxesSubplot at 0x7f1be8995f40>"
      ]
     },
     "execution_count": 21,
     "metadata": {},
     "output_type": "execute_result"
    },
    {
     "data": {
      "image/png": "[encoded data removed]",
      "text/plain": [
       "<Figure size 432x288 with 1 Axes>"
      ]
     },
     "metadata": {
      "needs_background": "light"
     },
     "output_type": "display_data"
    }
   ],
   "source": [
    "sns.countplot(x='mask', data=data)"
   ]
  },
  {
   "cell_type": "code",
   "execution_count": 45,
   "id": "497ca8aa-7643-4c3e-83f0-30e9a90e419d",
   "metadata": {},
   "outputs": [
    {
     "ename": "TypeError",
     "evalue": "'Counter' object is not callable",
     "output_type": "error",
     "traceback": [
      "\u001b[0;31m---------------------------------------------------------------------------\u001b[0m",
      "\u001b[0;31mTypeError\u001b[0m                                 Traceback (most recent call last)",
      "\u001b[0;32m<ipython-input-45-8b3c949d721f>\u001b[0m in \u001b[0;36m<module>\u001b[0;34m\u001b[0m\n\u001b[1;32m      4\u001b[0m \u001b[0mcc\u001b[0m \u001b[0;34m=\u001b[0m \u001b[0mCounter\u001b[0m\u001b[0;34m(\u001b[0m\u001b[0;34m)\u001b[0m\u001b[0;34m\u001b[0m\u001b[0;34m\u001b[0m\u001b[0m\n\u001b[1;32m      5\u001b[0m \u001b[0;34m\u001b[0m\u001b[0m\n\u001b[0;32m----> 6\u001b[0;31m \u001b[0mcc\u001b[0m\u001b[0;34m(\u001b[0m\u001b[0;34m[\u001b[0m\u001b[0;36m2\u001b[0m\u001b[0;34m,\u001b[0m \u001b[0;36m2\u001b[0m\u001b[0;34m,\u001b[0m \u001b[0;36m1\u001b[0m\u001b[0;34m]\u001b[0m\u001b[0;34m)\u001b[0m\u001b[0;34m\u001b[0m\u001b[0;34m\u001b[0m\u001b[0m\n\u001b[0m",
      "\u001b[0;31mTypeError\u001b[0m: 'Counter' object is not callable"
     ]
    }
   ],
   "source": [
    "from scipy.stats import mode\n",
    "from collections import Counter\n",
    "\n",
    "b1, b2, b3 = [1, 1], [2, 1], [2, 3]\n",
    "a = []"
   ]
  },
  {
   "cell_type": "code",
   "execution_count": 48,
   "id": "8e4975e1-4b08-4c4b-b10d-013191ff5443",
   "metadata": {},
   "outputs": [],
   "source": [
    "def frequent(x1, x2, x3):\n",
    "    x1, x2, x3 = x1.tolist(), x2.tolist(), x3.tolist()\n",
    "    result = []\n",
    "    for a, b, c in zip(x1, x2, x3):\n",
    "        result.append(Counter([a, b, c]).most_common()[0][0])\n",
    "    return result"
   ]
  },
  {
   "cell_type": "code",
   "execution_count": 53,
   "id": "e24b20ec-235c-49a8-993f-7c28c3004077",
   "metadata": {},
   "outputs": [],
   "source": [
    "mask_vote = frequent(r1['mask'], r2['mask'], r3['mask'])"
   ]
  },
  {
   "cell_type": "code",
   "execution_count": 54,
   "id": "1ca4a6f6-dc6c-40c5-bd1c-2b234d2730a4",
   "metadata": {},
   "outputs": [
    {
     "data": {
      "text/plain": [
       "(12600, 1)"
      ]
     },
     "execution_count": 54,
     "metadata": {},
     "output_type": "execute_result"
    }
   ],
   "source": [
    "len(mask_vote), mask_vote[6]"
   ]
  },
  {
   "cell_type": "code",
   "execution_count": 55,
   "id": "1f2c6e24-7bcc-406c-badc-52eda74bccd5",
   "metadata": {},
   "outputs": [],
   "source": [
    "age_vote = frequent(r1['age'], r2['age'], r3['age'])"
   ]
  },
  {
   "cell_type": "code",
   "execution_count": 56,
   "id": "c32d49f4-3985-4041-95d5-340801d05590",
   "metadata": {},
   "outputs": [],
   "source": [
    "gender_vote = frequent(r1['gender'], r2['gender'], r3['gender'])"
   ]
  },
  {
   "cell_type": "code",
   "execution_count": 57,
   "id": "e870377b-2e55-4089-a352-f427488963ed",
   "metadata": {},
   "outputs": [
    {
     "data": {
      "text/plain": [
       "(12600, 12600)"
      ]
     },
     "execution_count": 57,
     "metadata": {},
     "output_type": "execute_result"
    }
   ],
   "source": [
    "len(age_vote), len(gender_vote)"
   ]
  },
  {
   "cell_type": "code",
   "execution_count": 58,
   "id": "c819e910-79b4-4037-ac10-fa5895c4aad0",
   "metadata": {},
   "outputs": [],
   "source": [
    "mask = np.array(mask_vote)\n",
    "age = np.array(age_vote)\n",
    "gender = np.array(gender_vote)"
   ]
  },
  {
   "cell_type": "code",
   "execution_count": 59,
   "id": "df5ba9a4-b75b-4951-8f90-55108df45728",
   "metadata": {},
   "outputs": [
    {
     "data": {
      "text/plain": [
       "(numpy.ndarray, 12600)"
      ]
     },
     "execution_count": 59,
     "metadata": {},
     "output_type": "execute_result"
    }
   ],
   "source": [
    "type(mask), len(mask)"
   ]
  },
  {
   "cell_type": "code",
   "execution_count": 60,
   "id": "70b5597e-0ad0-4182-95ed-69c879358609",
   "metadata": {},
   "outputs": [],
   "source": [
    "submission = pd.read_csv('/opt/ml/input/data/eval/info.csv')"
   ]
  },
  {
   "cell_type": "code",
   "execution_count": 61,
   "id": "292643dd-b04a-4772-a945-ee13142f82c0",
   "metadata": {},
   "outputs": [],
   "source": [
    "result = mask*6 + age + gender*3"
   ]
  },
  {
   "cell_type": "code",
   "execution_count": 62,
   "id": "d5c17f01-9afd-4237-b795-358cec782be2",
   "metadata": {},
   "outputs": [],
   "source": [
    "result = result.tolist()"
   ]
  },
  {
   "cell_type": "code",
   "execution_count": 63,
   "id": "22f7021b-5462-471f-8881-33ce83c5bdc3",
   "metadata": {},
   "outputs": [],
   "source": [
    "submission['ans'] = result"
   ]
  },
  {
   "cell_type": "code",
   "execution_count": 64,
   "id": "042ecfb0-5124-4ef8-8d16-20e2e3e73b91",
   "metadata": {},
   "outputs": [
    {
     "data": {
      "text/html": [
       "<div>\n",
       "<style scoped>\n",
       "    .dataframe tbody tr th:only-of-type {\n",
       "        vertical-align: middle;\n",
       "    }\n",
       "\n",
       "    .dataframe tbody tr th {\n",
       "        vertical-align: top;\n",
       "    }\n",
       "\n",
       "    .dataframe thead th {\n",
       "        text-align: right;\n",
       "    }\n",
       "</style>\n",
       "<table border=\"1\" class=\"dataframe\">\n",
       "  <thead>\n",
       "    <tr style=\"text-align: right;\">\n",
       "      <th></th>\n",
       "      <th>ImageID</th>\n",
       "      <th>ans</th>\n",
       "    </tr>\n",
       "  </thead>\n",
       "  <tbody>\n",
       "    <tr>\n",
       "      <th>0</th>\n",
       "      <td>cbc5c6e168e63498590db46022617123f1fe1268.jpg</td>\n",
       "      <td>13</td>\n",
       "    </tr>\n",
       "    <tr>\n",
       "      <th>1</th>\n",
       "      <td>0e72482bf56b3581c081f7da2a6180b8792c7089.jpg</td>\n",
       "      <td>1</td>\n",
       "    </tr>\n",
       "    <tr>\n",
       "      <th>2</th>\n",
       "      <td>b549040c49190cedc41327748aeb197c1670f14d.jpg</td>\n",
       "      <td>13</td>\n",
       "    </tr>\n",
       "    <tr>\n",
       "      <th>3</th>\n",
       "      <td>4f9cb2a045c6d5b9e50ad3459ea7b791eb6e18bc.jpg</td>\n",
       "      <td>13</td>\n",
       "    </tr>\n",
       "    <tr>\n",
       "      <th>4</th>\n",
       "      <td>248428d9a4a5b6229a7081c32851b90cb8d38d0c.jpg</td>\n",
       "      <td>12</td>\n",
       "    </tr>\n",
       "  </tbody>\n",
       "</table>\n",
       "</div>"
      ],
      "text/plain": [
       "                                        ImageID  ans\n",
       "0  cbc5c6e168e63498590db46022617123f1fe1268.jpg   13\n",
       "1  0e72482bf56b3581c081f7da2a6180b8792c7089.jpg    1\n",
       "2  b549040c49190cedc41327748aeb197c1670f14d.jpg   13\n",
       "3  4f9cb2a045c6d5b9e50ad3459ea7b791eb6e18bc.jpg   13\n",
       "4  248428d9a4a5b6229a7081c32851b90cb8d38d0c.jpg   12"
      ]
     },
     "execution_count": 64,
     "metadata": {},
     "output_type": "execute_result"
    }
   ],
   "source": [
    "submission.head()"
   ]
  },
  {
   "cell_type": "code",
   "execution_count": 65,
   "id": "d2207a7e-33e4-4eea-82bb-afed711db499",
   "metadata": {},
   "outputs": [
    {
     "data": {
      "text/plain": [
       "<matplotlib.axes._subplots.AxesSubplot at 0x7f1be8bdab20>"
      ]
     },
     "execution_count": 65,
     "metadata": {},
     "output_type": "execute_result"
    },
    {
     "data": {
      "image/png": "[encoded data removed]",
      "text/plain": [
       "<Figure size 432x288 with 1 Axes>"
      ]
     },
     "metadata": {
      "needs_background": "light"
     },
     "output_type": "display_data"
    }
   ],
   "source": [
    "sns.countplot(x='ans', data=submission)"
   ]
  },
  {
   "cell_type": "code",
   "execution_count": 66,
   "id": "738cb378-a654-4337-800c-31d446b0e9b6",
   "metadata": {},
   "outputs": [
    {
     "data": {
      "text/plain": [
       "12600"
      ]
     },
     "execution_count": 66,
     "metadata": {},
     "output_type": "execute_result"
    }
   ],
   "source": [
    "len(submission)"
   ]
  },
  {
   "cell_type": "code",
   "execution_count": 67,
   "id": "abef8d0c-36ce-4442-bfe6-48c8664b83a0",
   "metadata": {},
   "outputs": [
    {
     "data": {
      "text/html": [
       "<div>\n",
       "<style scoped>\n",
       "    .dataframe tbody tr th:only-of-type {\n",
       "        vertical-align: middle;\n",
       "    }\n",
       "\n",
       "    .dataframe tbody tr th {\n",
       "        vertical-align: top;\n",
       "    }\n",
       "\n",
       "    .dataframe thead th {\n",
       "        text-align: right;\n",
       "    }\n",
       "</style>\n",
       "<table border=\"1\" class=\"dataframe\">\n",
       "  <thead>\n",
       "    <tr style=\"text-align: right;\">\n",
       "      <th></th>\n",
       "      <th>ImageID</th>\n",
       "      <th>ans</th>\n",
       "    </tr>\n",
       "  </thead>\n",
       "  <tbody>\n",
       "    <tr>\n",
       "      <th>0</th>\n",
       "      <td>cbc5c6e168e63498590db46022617123f1fe1268.jpg</td>\n",
       "      <td>13</td>\n",
       "    </tr>\n",
       "    <tr>\n",
       "      <th>1</th>\n",
       "      <td>0e72482bf56b3581c081f7da2a6180b8792c7089.jpg</td>\n",
       "      <td>1</td>\n",
       "    </tr>\n",
       "    <tr>\n",
       "      <th>2</th>\n",
       "      <td>b549040c49190cedc41327748aeb197c1670f14d.jpg</td>\n",
       "      <td>13</td>\n",
       "    </tr>\n",
       "    <tr>\n",
       "      <th>3</th>\n",
       "      <td>4f9cb2a045c6d5b9e50ad3459ea7b791eb6e18bc.jpg</td>\n",
       "      <td>13</td>\n",
       "    </tr>\n",
       "    <tr>\n",
       "      <th>4</th>\n",
       "      <td>248428d9a4a5b6229a7081c32851b90cb8d38d0c.jpg</td>\n",
       "      <td>12</td>\n",
       "    </tr>\n",
       "  </tbody>\n",
       "</table>\n",
       "</div>"
      ],
      "text/plain": [
       "                                        ImageID  ans\n",
       "0  cbc5c6e168e63498590db46022617123f1fe1268.jpg   13\n",
       "1  0e72482bf56b3581c081f7da2a6180b8792c7089.jpg    1\n",
       "2  b549040c49190cedc41327748aeb197c1670f14d.jpg   13\n",
       "3  4f9cb2a045c6d5b9e50ad3459ea7b791eb6e18bc.jpg   13\n",
       "4  248428d9a4a5b6229a7081c32851b90cb8d38d0c.jpg   12"
      ]
     },
     "execution_count": 67,
     "metadata": {},
     "output_type": "execute_result"
    }
   ],
   "source": [
    "submission.head()"
   ]
  },
  {
   "cell_type": "code",
   "execution_count": 68,
   "id": "4ece5368-6557-4451-bfb6-bd423d9288fb",
   "metadata": {},
   "outputs": [],
   "source": [
    "submission.to_csv('/opt/ml/submission.csv', index=False)"
   ]
  },
  {
   "cell_type": "code",
   "execution_count": null,
   "id": "d36521ec-9ba8-4051-815c-de16d7dd0624",
   "metadata": {},
   "outputs": [],
   "source": []
  }
 ],
 "metadata": {
  "kernelspec": {
   "display_name": "Python 3 (ipykernel)",
   "language": "python",
   "name": "python3"
  },
  "language_info": {
   "codemirror_mode": {
    "name": "ipython",
    "version": 3
   },
   "file_extension": ".py",
   "mimetype": "text/x-python",
   "name": "python",
   "nbconvert_exporter": "python",
   "pygments_lexer": "ipython3",
   "version": "3.8.5"
  }
 },
 "nbformat": 4,
 "nbformat_minor": 5
}
