{
 "cells": [
  {
   "cell_type": "code",
   "execution_count": 1,
   "id": "b980690c-ac41-4bab-b4b4-345fab62c016",
   "metadata": {},
   "outputs": [],
   "source": [
    "import torch\n",
    "DEVICE = torch.device('cuda' if torch.cuda.is_available() else 'cpu')\n",
    "LEARNING_RATE = 1e-5"
   ]
  },
  {
   "cell_type": "code",
   "execution_count": 2,
   "id": "7ce19aef-f952-4c6a-9b50-e704fcb5dafd",
   "metadata": {},
   "outputs": [],
   "source": [
    "### training set 있는 Path ###\n",
    "BASE_PATH = '../data/train/'"
   ]
  },
  {
   "cell_type": "code",
   "execution_count": 3,
   "id": "c1b49b7d-d34b-448f-8cc6-d5456624f5ea",
   "metadata": {},
   "outputs": [],
   "source": [
    "import torchvision.transforms as transforms\n",
    "### Transforms ###\n",
    "transform = transforms.Compose([\n",
    "    transforms.ToTensor(),\n",
    "    transforms.CenterCrop(300)\n",
    "])"
   ]
  },
  {
   "cell_type": "markdown",
   "id": "bf6e02d9-d251-4a4b-8802-25c0d1d6b331",
   "metadata": {},
   "source": [
    "## Load dataset"
   ]
  },
  {
   "cell_type": "code",
   "execution_count": 4,
   "id": "89770fbf-ccb1-4836-af97-30bf57129689",
   "metadata": {},
   "outputs": [],
   "source": [
    "from Dataset import TrainValidDataset"
   ]
  },
  {
   "cell_type": "code",
   "execution_count": 5,
   "id": "fba944bd-640a-4f10-9145-23e23fe740d3",
   "metadata": {},
   "outputs": [],
   "source": [
    "import pandas as pd\n",
    "df = pd.read_csv(BASE_PATH + 'train.csv')"
   ]
  },
  {
   "cell_type": "code",
   "execution_count": 6,
   "id": "af7202fd-bae8-4b77-8fe4-c9efe21d6d76",
   "metadata": {
    "scrolled": true,
    "tags": []
   },
   "outputs": [],
   "source": [
    "# training set (validation set 따로 안 나눈 경우)\n",
    "# train_dataset = AllClassDataset(\n",
    "#     base_path = BASE_PATH, \n",
    "#     data = df, \n",
    "#     transform = transform\n",
    "# )"
   ]
  },
  {
   "cell_type": "code",
   "execution_count": 7,
   "id": "d0288d25-670c-40fd-9a8b-4afa4128d6d6",
   "metadata": {},
   "outputs": [],
   "source": [
    "# train / validation data\n",
    "from sklearn.model_selection import train_test_split\n",
    "def mapAgeGender(age, gender):\n",
    "    answer = 0\n",
    "    if age < 30:\n",
    "        answer += 0\n",
    "    elif age >= 60:\n",
    "        answer += 2\n",
    "    else:\n",
    "        answer += 1\n",
    "    return answer if gender == 'male' else answer + 3\n",
    "\n",
    "y_data = df.apply(lambda x: mapAgeGender(x['age'], x['gender']), axis=1)\n",
    "x_train, x_val, y_train, y_val = train_test_split(df.index, y_data, test_size=0.2, random_state=42, stratify=y_data)"
   ]
  },
  {
   "cell_type": "code",
   "execution_count": 8,
   "id": "970380b7-e5a6-45a2-ba8b-409abc61a4eb",
   "metadata": {},
   "outputs": [
    {
     "name": "stderr",
     "output_type": "stream",
     "text": [
      "100%|██████████| 2160/2160 [00:17<00:00, 125.76it/s]\n"
     ]
    }
   ],
   "source": [
    "age_dataset = TrainValidDataset(\n",
    "    base_path = BASE_PATH, \n",
    "    data = df.loc[x_train], \n",
    "    transform = transform,\n",
    "    label=\"age\"\n",
    ")"
   ]
  },
  {
   "cell_type": "code",
   "execution_count": 9,
   "id": "cc3c6314-bb34-40b2-bb11-e3549816d7a6",
   "metadata": {},
   "outputs": [
    {
     "name": "stderr",
     "output_type": "stream",
     "text": [
      "100%|██████████| 540/540 [00:03<00:00, 141.29it/s]\n"
     ]
    }
   ],
   "source": [
    "age_val_dataset = TrainValidDataset(\n",
    "    base_path = BASE_PATH, \n",
    "    data = df.loc[x_val], \n",
    "    transform = transform,\n",
    "    label=\"age\"\n",
    ")"
   ]
  },
  {
   "cell_type": "markdown",
   "id": "953d14ff-3c2e-4c86-a351-54947dd0a430",
   "metadata": {
    "tags": []
   },
   "source": [
    "### Dataset 확인용 Code\n",
    "```python\n",
    "import matplotlib.pyplot as plt\n",
    "image, label = val_dataset[0]\n",
    "plt.title(f'Class {label}')\n",
    "plt.imshow(image.permute(1,2,0))\n",
    "plt.show()\n",
    "```"
   ]
  },
  {
   "cell_type": "markdown",
   "id": "90b5f1d4-f809-42b6-82e6-a65c657e9aa6",
   "metadata": {
    "tags": []
   },
   "source": [
    "## DataLoader"
   ]
  },
  {
   "cell_type": "code",
   "execution_count": 10,
   "id": "d9d5ba54-0c1b-4433-8208-d9098c3dbe83",
   "metadata": {},
   "outputs": [],
   "source": [
    "age_trainloader = torch.utils.data.DataLoader(\n",
    "    age_dataset,\n",
    "    batch_size=64,\n",
    "    num_workers=1\n",
    ")"
   ]
  },
  {
   "cell_type": "code",
   "execution_count": 11,
   "id": "d8aed0d2-277d-441e-86ed-68150492a059",
   "metadata": {},
   "outputs": [],
   "source": [
    "age_valloader = torch.utils.data.DataLoader(\n",
    "    age_val_dataset,\n",
    "    batch_size=64,\n",
    "    num_workers=1\n",
    ")"
   ]
  },
  {
   "cell_type": "markdown",
   "id": "c731fd44-1ef7-418b-9a24-92ba3b529eda",
   "metadata": {
    "tags": []
   },
   "source": [
    "### Dataloader 확인용 Code\n",
    "```python\n",
    "import matplotlib.pyplot as plt\n",
    "images, labels = next(iter(trainloader))\n",
    "plt.title(f'Class {labels[0]}')\n",
    "plt.imshow(images[0].permute(1,2,0))\n",
    "plt.show()\n",
    "```"
   ]
  },
  {
   "cell_type": "markdown",
   "id": "3a14b331-f96c-43b4-bbff-6bdc6d3a7a80",
   "metadata": {},
   "source": [
    "## Model"
   ]
  },
  {
   "cell_type": "code",
   "execution_count": 12,
   "id": "6a836fbe-ab23-4671-8126-459e7f705c8c",
   "metadata": {},
   "outputs": [],
   "source": [
    "from Model import ModifiedModel"
   ]
  },
  {
   "cell_type": "code",
   "execution_count": 13,
   "id": "fced82c1-5b0d-4622-83c9-1080c0dc1c77",
   "metadata": {},
   "outputs": [],
   "source": [
    "age_model = ModifiedModel(num_classes = 3).to(DEVICE)"
   ]
  },
  {
   "cell_type": "code",
   "execution_count": 14,
   "id": "701c6389-52f6-49ff-8fac-d88c30154944",
   "metadata": {},
   "outputs": [],
   "source": [
    "age_optimizer = torch.optim.Adam(age_model.parameters(), lr=LEARNING_RATE)"
   ]
  },
  {
   "cell_type": "markdown",
   "id": "3d9fa17e-850c-4e71-84b7-4dc52aa42d18",
   "metadata": {},
   "source": [
    "## Train"
   ]
  },
  {
   "cell_type": "code",
   "execution_count": 15,
   "id": "4d59e426-40df-47c9-aa9e-d413794b4068",
   "metadata": {},
   "outputs": [],
   "source": [
    "from train import train"
   ]
  },
  {
   "cell_type": "code",
   "execution_count": 16,
   "id": "72e4173f-7d6b-48bd-a7f7-0374b06d168f",
   "metadata": {},
   "outputs": [],
   "source": [
    "# Tensorboard\n",
    "from torch.utils.tensorboard import SummaryWriter\n",
    "train_writer = SummaryWriter('runs/train_resnet18_age')\n",
    "val_writer = SummaryWriter('runs/val_resnet18_age')"
   ]
  },
  {
   "cell_type": "code",
   "execution_count": 17,
   "id": "e65ca241-7b14-4fcb-a65c-3e47cb40db24",
   "metadata": {
    "scrolled": true,
    "tags": []
   },
   "outputs": [
    {
     "name": "stderr",
     "output_type": "stream",
     "text": [
      "100%|██████████| 237/237 [01:04<00:00,  3.70it/s]\n",
      "  0%|          | 0/237 [00:00<?, ?it/s]"
     ]
    },
    {
     "name": "stdout",
     "output_type": "stream",
     "text": [
      "Epoch 001: Loss: 0.6533 / Acc: 0.734 / F1: 0.59        | Val Loss: 0.3132 / Val Acc: 0.882 / Val F1: 0.77\n"
     ]
    },
    {
     "name": "stderr",
     "output_type": "stream",
     "text": [
      "100%|██████████| 237/237 [01:03<00:00,  3.72it/s]\n",
      "  0%|          | 0/237 [00:00<?, ?it/s]"
     ]
    },
    {
     "name": "stdout",
     "output_type": "stream",
     "text": [
      "Epoch 002: Loss: 0.3120 / Acc: 0.886 / F1: 0.78        | Val Loss: 0.2643 / Val Acc: 0.899 / Val F1: 0.80\n"
     ]
    },
    {
     "name": "stderr",
     "output_type": "stream",
     "text": [
      "100%|██████████| 237/237 [01:03<00:00,  3.74it/s]\n",
      "  0%|          | 0/237 [00:00<?, ?it/s]"
     ]
    },
    {
     "name": "stdout",
     "output_type": "stream",
     "text": [
      "Epoch 003: Loss: 0.2376 / Acc: 0.917 / F1: 0.83        | Val Loss: 0.2506 / Val Acc: 0.906 / Val F1: 0.81\n"
     ]
    },
    {
     "name": "stderr",
     "output_type": "stream",
     "text": [
      "100%|██████████| 237/237 [01:03<00:00,  3.73it/s]\n",
      "  0%|          | 0/237 [00:00<?, ?it/s]"
     ]
    },
    {
     "name": "stdout",
     "output_type": "stream",
     "text": [
      "Epoch 004: Loss: 0.1847 / Acc: 0.940 / F1: 0.87        | Val Loss: 0.2498 / Val Acc: 0.908 / Val F1: 0.80\n"
     ]
    },
    {
     "name": "stderr",
     "output_type": "stream",
     "text": [
      "100%|██████████| 237/237 [01:03<00:00,  3.72it/s]\n",
      "  0%|          | 0/237 [00:00<?, ?it/s]"
     ]
    },
    {
     "name": "stdout",
     "output_type": "stream",
     "text": [
      "Epoch 005: Loss: 0.1413 / Acc: 0.961 / F1: 0.91        | Val Loss: 0.2543 / Val Acc: 0.908 / Val F1: 0.80\n"
     ]
    },
    {
     "name": "stderr",
     "output_type": "stream",
     "text": [
      "100%|██████████| 237/237 [01:05<00:00,  3.63it/s]\n",
      "  0%|          | 0/237 [00:00<?, ?it/s]"
     ]
    },
    {
     "name": "stdout",
     "output_type": "stream",
     "text": [
      "Epoch 006: Loss: 0.1050 / Acc: 0.975 / F1: 0.94        | Val Loss: 0.2630 / Val Acc: 0.907 / Val F1: 0.80\n"
     ]
    },
    {
     "name": "stderr",
     "output_type": "stream",
     "text": [
      "100%|██████████| 237/237 [01:04<00:00,  3.70it/s]\n",
      "  0%|          | 0/237 [00:00<?, ?it/s]"
     ]
    },
    {
     "name": "stdout",
     "output_type": "stream",
     "text": [
      "Epoch 007: Loss: 0.0757 / Acc: 0.987 / F1: 0.97        | Val Loss: 0.2759 / Val Acc: 0.907 / Val F1: 0.80\n"
     ]
    },
    {
     "name": "stderr",
     "output_type": "stream",
     "text": [
      "100%|██████████| 237/237 [01:03<00:00,  3.72it/s]\n",
      "  0%|          | 0/237 [00:00<?, ?it/s]"
     ]
    },
    {
     "name": "stdout",
     "output_type": "stream",
     "text": [
      "Epoch 008: Loss: 0.0530 / Acc: 0.994 / F1: 0.99        | Val Loss: 0.2916 / Val Acc: 0.905 / Val F1: 0.79\n"
     ]
    },
    {
     "name": "stderr",
     "output_type": "stream",
     "text": [
      "100%|██████████| 237/237 [01:03<00:00,  3.74it/s]\n",
      "  0%|          | 0/237 [00:00<?, ?it/s]"
     ]
    },
    {
     "name": "stdout",
     "output_type": "stream",
     "text": [
      "Epoch 009: Loss: 0.0367 / Acc: 0.997 / F1: 0.99        | Val Loss: 0.3082 / Val Acc: 0.905 / Val F1: 0.79\n"
     ]
    },
    {
     "name": "stderr",
     "output_type": "stream",
     "text": [
      "100%|██████████| 237/237 [01:03<00:00,  3.74it/s]\n",
      "  0%|          | 0/237 [00:00<?, ?it/s]"
     ]
    },
    {
     "name": "stdout",
     "output_type": "stream",
     "text": [
      "Epoch 010: Loss: 0.0259 / Acc: 0.999 / F1: 1.00        | Val Loss: 0.3253 / Val Acc: 0.903 / Val F1: 0.78\n"
     ]
    },
    {
     "name": "stderr",
     "output_type": "stream",
     "text": [
      "100%|██████████| 237/237 [01:05<00:00,  3.62it/s]\n",
      "  0%|          | 0/237 [00:00<?, ?it/s]"
     ]
    },
    {
     "name": "stdout",
     "output_type": "stream",
     "text": [
      "Epoch 011: Loss: 0.0189 / Acc: 1.000 / F1: 1.00        | Val Loss: 0.3411 / Val Acc: 0.903 / Val F1: 0.79\n"
     ]
    },
    {
     "name": "stderr",
     "output_type": "stream",
     "text": [
      "100%|██████████| 237/237 [01:05<00:00,  3.61it/s]\n",
      "  0%|          | 0/237 [00:00<?, ?it/s]"
     ]
    },
    {
     "name": "stdout",
     "output_type": "stream",
     "text": [
      "Epoch 012: Loss: 0.0143 / Acc: 1.000 / F1: 1.00        | Val Loss: 0.3554 / Val Acc: 0.902 / Val F1: 0.79\n"
     ]
    },
    {
     "name": "stderr",
     "output_type": "stream",
     "text": [
      "100%|██████████| 237/237 [01:11<00:00,  3.33it/s]\n",
      "  0%|          | 0/237 [00:00<?, ?it/s]"
     ]
    },
    {
     "name": "stdout",
     "output_type": "stream",
     "text": [
      "Epoch 013: Loss: 0.0111 / Acc: 1.000 / F1: 1.00        | Val Loss: 0.3679 / Val Acc: 0.903 / Val F1: 0.79\n"
     ]
    },
    {
     "name": "stderr",
     "output_type": "stream",
     "text": [
      "100%|██████████| 237/237 [01:07<00:00,  3.53it/s]\n",
      "  0%|          | 0/237 [00:00<?, ?it/s]"
     ]
    },
    {
     "name": "stdout",
     "output_type": "stream",
     "text": [
      "Epoch 014: Loss: 0.0089 / Acc: 1.000 / F1: 1.00        | Val Loss: 0.3788 / Val Acc: 0.903 / Val F1: 0.79\n"
     ]
    },
    {
     "name": "stderr",
     "output_type": "stream",
     "text": [
      "100%|██████████| 237/237 [01:05<00:00,  3.60it/s]\n",
      "  0%|          | 0/237 [00:00<?, ?it/s]"
     ]
    },
    {
     "name": "stdout",
     "output_type": "stream",
     "text": [
      "Epoch 015: Loss: 0.0073 / Acc: 1.000 / F1: 1.00        | Val Loss: 0.3885 / Val Acc: 0.902 / Val F1: 0.79\n"
     ]
    },
    {
     "name": "stderr",
     "output_type": "stream",
     "text": [
      "100%|██████████| 237/237 [01:04<00:00,  3.70it/s]\n",
      "  0%|          | 0/237 [00:00<?, ?it/s]"
     ]
    },
    {
     "name": "stdout",
     "output_type": "stream",
     "text": [
      "Epoch 016: Loss: 0.0060 / Acc: 1.000 / F1: 1.00        | Val Loss: 0.3970 / Val Acc: 0.902 / Val F1: 0.79\n"
     ]
    },
    {
     "name": "stderr",
     "output_type": "stream",
     "text": [
      "100%|██████████| 237/237 [01:02<00:00,  3.77it/s]\n",
      "  0%|          | 0/237 [00:00<?, ?it/s]"
     ]
    },
    {
     "name": "stdout",
     "output_type": "stream",
     "text": [
      "Epoch 017: Loss: 0.0051 / Acc: 1.000 / F1: 1.00        | Val Loss: 0.4046 / Val Acc: 0.902 / Val F1: 0.79\n"
     ]
    },
    {
     "name": "stderr",
     "output_type": "stream",
     "text": [
      "100%|██████████| 237/237 [01:08<00:00,  3.45it/s]\n",
      "  0%|          | 0/237 [00:00<?, ?it/s]"
     ]
    },
    {
     "name": "stdout",
     "output_type": "stream",
     "text": [
      "Epoch 018: Loss: 0.0043 / Acc: 1.000 / F1: 1.00        | Val Loss: 0.4116 / Val Acc: 0.902 / Val F1: 0.79\n"
     ]
    },
    {
     "name": "stderr",
     "output_type": "stream",
     "text": [
      "100%|██████████| 237/237 [01:04<00:00,  3.68it/s]\n",
      "  0%|          | 0/237 [00:00<?, ?it/s]"
     ]
    },
    {
     "name": "stdout",
     "output_type": "stream",
     "text": [
      "Epoch 019: Loss: 0.0037 / Acc: 1.000 / F1: 1.00        | Val Loss: 0.4182 / Val Acc: 0.902 / Val F1: 0.79\n"
     ]
    },
    {
     "name": "stderr",
     "output_type": "stream",
     "text": [
      "100%|██████████| 237/237 [01:05<00:00,  3.62it/s]\n",
      "  0%|          | 0/237 [00:00<?, ?it/s]"
     ]
    },
    {
     "name": "stdout",
     "output_type": "stream",
     "text": [
      "Epoch 020: Loss: 0.0032 / Acc: 1.000 / F1: 1.00        | Val Loss: 0.4244 / Val Acc: 0.902 / Val F1: 0.79\n"
     ]
    },
    {
     "name": "stderr",
     "output_type": "stream",
     "text": [
      "100%|██████████| 237/237 [01:05<00:00,  3.63it/s]\n",
      "  0%|          | 0/237 [00:00<?, ?it/s]"
     ]
    },
    {
     "name": "stdout",
     "output_type": "stream",
     "text": [
      "Epoch 021: Loss: 0.0027 / Acc: 1.000 / F1: 1.00        | Val Loss: 0.4303 / Val Acc: 0.902 / Val F1: 0.79\n"
     ]
    },
    {
     "name": "stderr",
     "output_type": "stream",
     "text": [
      "100%|██████████| 237/237 [01:05<00:00,  3.60it/s]\n",
      "  0%|          | 0/237 [00:00<?, ?it/s]"
     ]
    },
    {
     "name": "stdout",
     "output_type": "stream",
     "text": [
      "Epoch 022: Loss: 0.0024 / Acc: 1.000 / F1: 1.00        | Val Loss: 0.4361 / Val Acc: 0.902 / Val F1: 0.79\n"
     ]
    },
    {
     "name": "stderr",
     "output_type": "stream",
     "text": [
      "100%|██████████| 237/237 [01:04<00:00,  3.69it/s]\n",
      "  0%|          | 0/237 [00:00<?, ?it/s]"
     ]
    },
    {
     "name": "stdout",
     "output_type": "stream",
     "text": [
      "Epoch 023: Loss: 0.0021 / Acc: 1.000 / F1: 1.00        | Val Loss: 0.4415 / Val Acc: 0.903 / Val F1: 0.79\n"
     ]
    },
    {
     "name": "stderr",
     "output_type": "stream",
     "text": [
      "100%|██████████| 237/237 [01:11<00:00,  3.31it/s]\n",
      "  0%|          | 0/237 [00:00<?, ?it/s]"
     ]
    },
    {
     "name": "stdout",
     "output_type": "stream",
     "text": [
      "Epoch 024: Loss: 0.0018 / Acc: 1.000 / F1: 1.00        | Val Loss: 0.4470 / Val Acc: 0.903 / Val F1: 0.79\n"
     ]
    },
    {
     "name": "stderr",
     "output_type": "stream",
     "text": [
      "100%|██████████| 237/237 [01:06<00:00,  3.58it/s]\n",
      "  0%|          | 0/237 [00:00<?, ?it/s]"
     ]
    },
    {
     "name": "stdout",
     "output_type": "stream",
     "text": [
      "Epoch 025: Loss: 0.0016 / Acc: 1.000 / F1: 1.00        | Val Loss: 0.4520 / Val Acc: 0.903 / Val F1: 0.79\n"
     ]
    },
    {
     "name": "stderr",
     "output_type": "stream",
     "text": [
      "100%|██████████| 237/237 [01:04<00:00,  3.69it/s]\n",
      "  0%|          | 0/237 [00:00<?, ?it/s]"
     ]
    },
    {
     "name": "stdout",
     "output_type": "stream",
     "text": [
      "Epoch 026: Loss: 0.0014 / Acc: 1.000 / F1: 1.00        | Val Loss: 0.4579 / Val Acc: 0.903 / Val F1: 0.79\n"
     ]
    },
    {
     "name": "stderr",
     "output_type": "stream",
     "text": [
      "100%|██████████| 237/237 [01:03<00:00,  3.71it/s]\n",
      "  0%|          | 0/237 [00:00<?, ?it/s]"
     ]
    },
    {
     "name": "stdout",
     "output_type": "stream",
     "text": [
      "Epoch 027: Loss: 0.0013 / Acc: 1.000 / F1: 1.00        | Val Loss: 0.4610 / Val Acc: 0.903 / Val F1: 0.79\n"
     ]
    },
    {
     "name": "stderr",
     "output_type": "stream",
     "text": [
      "100%|██████████| 237/237 [01:06<00:00,  3.57it/s]\n",
      "  0%|          | 0/237 [00:00<?, ?it/s]"
     ]
    },
    {
     "name": "stdout",
     "output_type": "stream",
     "text": [
      "Epoch 028: Loss: 0.0011 / Acc: 1.000 / F1: 1.00        | Val Loss: 0.4717 / Val Acc: 0.903 / Val F1: 0.79\n"
     ]
    },
    {
     "name": "stderr",
     "output_type": "stream",
     "text": [
      "100%|██████████| 237/237 [01:03<00:00,  3.71it/s]\n",
      "  0%|          | 0/237 [00:00<?, ?it/s]"
     ]
    },
    {
     "name": "stdout",
     "output_type": "stream",
     "text": [
      "Epoch 029: Loss: 0.0011 / Acc: 1.000 / F1: 1.00        | Val Loss: 0.4486 / Val Acc: 0.910 / Val F1: 0.80\n"
     ]
    },
    {
     "name": "stderr",
     "output_type": "stream",
     "text": [
      "100%|██████████| 237/237 [01:05<00:00,  3.62it/s]\n"
     ]
    },
    {
     "name": "stdout",
     "output_type": "stream",
     "text": [
      "Epoch 030: Loss: 0.0096 / Acc: 0.998 / F1: 1.00        | Val Loss: 0.4978 / Val Acc: 0.894 / Val F1: 0.77\n"
     ]
    }
   ],
   "source": [
    "### Parameter 변경 ###\n",
    "train(\n",
    "    model=age_model, \n",
    "    optimizer=age_optimizer,\n",
    "    train_loader=age_trainloader, \n",
    "    val_loader=age_valloader,\n",
    "    device=DEVICE, \n",
    "    epochs=30, \n",
    "    save=True, \n",
    "    saved_folder=\"saved/age\",\n",
    "    train_writer=train_writer,\n",
    "    val_writer=val_writer\n",
    ")"
   ]
  },
  {
   "cell_type": "code",
   "execution_count": null,
   "id": "a28798bb-56ce-4beb-94fc-7dd7898f62d9",
   "metadata": {},
   "outputs": [],
   "source": [
    "train_writer.close()\n",
    "val_writer.close()"
   ]
  },
  {
   "cell_type": "code",
   "execution_count": null,
   "id": "e4713b76-a4b6-42ed-8928-a74d9c83a152",
   "metadata": {},
   "outputs": [],
   "source": [
    "# rm -rf /opt/ml/.cache/torch/hub/checkpoints/"
   ]
  },
  {
   "cell_type": "code",
   "execution_count": null,
   "id": "cf3f8a19-4d1e-4961-923e-4bb030180b6d",
   "metadata": {},
   "outputs": [],
   "source": []
  }
 ],
 "metadata": {
  "kernelspec": {
   "display_name": "Python 3 (ipykernel)",
   "language": "python",
   "name": "python3"
  },
  "language_info": {
   "codemirror_mode": {
    "name": "ipython",
    "version": 3
   },
   "file_extension": ".py",
   "mimetype": "text/x-python",
   "name": "python",
   "nbconvert_exporter": "python",
   "pygments_lexer": "ipython3",
   "version": "3.8.5"
  }
 },
 "nbformat": 4,
 "nbformat_minor": 5
}
