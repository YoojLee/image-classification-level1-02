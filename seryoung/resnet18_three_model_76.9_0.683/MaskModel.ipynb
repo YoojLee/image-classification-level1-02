{
 "cells": [
  {
   "cell_type": "code",
   "execution_count": 1,
   "id": "b980690c-ac41-4bab-b4b4-345fab62c016",
   "metadata": {},
   "outputs": [],
   "source": [
    "import torch\n",
    "DEVICE = torch.device('cuda' if torch.cuda.is_available() else 'cpu')\n",
    "LEARNING_RATE = 1e-5"
   ]
  },
  {
   "cell_type": "code",
   "execution_count": 2,
   "id": "7ce19aef-f952-4c6a-9b50-e704fcb5dafd",
   "metadata": {},
   "outputs": [],
   "source": [
    "### training set 있는 Path ###\n",
    "BASE_PATH = '../data/train/'"
   ]
  },
  {
   "cell_type": "code",
   "execution_count": 3,
   "id": "c1b49b7d-d34b-448f-8cc6-d5456624f5ea",
   "metadata": {},
   "outputs": [],
   "source": [
    "import torchvision.transforms as transforms\n",
    "### Transforms ###\n",
    "transform = transforms.Compose([\n",
    "    transforms.ToTensor(),\n",
    "    transforms.CenterCrop(300)\n",
    "])"
   ]
  },
  {
   "cell_type": "markdown",
   "id": "bf6e02d9-d251-4a4b-8802-25c0d1d6b331",
   "metadata": {},
   "source": [
    "## Load dataset"
   ]
  },
  {
   "cell_type": "code",
   "execution_count": 4,
   "id": "89770fbf-ccb1-4836-af97-30bf57129689",
   "metadata": {},
   "outputs": [],
   "source": [
    "from Dataset import TrainValidDataset"
   ]
  },
  {
   "cell_type": "code",
   "execution_count": 5,
   "id": "fba944bd-640a-4f10-9145-23e23fe740d3",
   "metadata": {},
   "outputs": [],
   "source": [
    "import pandas as pd\n",
    "df = pd.read_csv(BASE_PATH + 'train.csv')"
   ]
  },
  {
   "cell_type": "code",
   "execution_count": 6,
   "id": "af7202fd-bae8-4b77-8fe4-c9efe21d6d76",
   "metadata": {
    "scrolled": true,
    "tags": []
   },
   "outputs": [],
   "source": [
    "# training set (validation set 따로 안 나눈 경우)\n",
    "# train_dataset = AllClassDataset(\n",
    "#     base_path = BASE_PATH, \n",
    "#     data = df, \n",
    "#     transform = transform\n",
    "# )"
   ]
  },
  {
   "cell_type": "code",
   "execution_count": 7,
   "id": "d0288d25-670c-40fd-9a8b-4afa4128d6d6",
   "metadata": {},
   "outputs": [],
   "source": [
    "# train / validation data\n",
    "from sklearn.model_selection import train_test_split\n",
    "def mapAgeGender(age, gender):\n",
    "    answer = 0\n",
    "    if age < 30:\n",
    "        answer += 0\n",
    "    elif age >= 60:\n",
    "        answer += 2\n",
    "    else:\n",
    "        answer += 1\n",
    "    return answer if gender == 'male' else answer + 3\n",
    "\n",
    "y_data = df.apply(lambda x: mapAgeGender(x['age'], x['gender']), axis=1)\n",
    "x_train, x_val, y_train, y_val = train_test_split(df.index, y_data, test_size=0.2, random_state=42, stratify=y_data)"
   ]
  },
  {
   "cell_type": "code",
   "execution_count": 8,
   "id": "970380b7-e5a6-45a2-ba8b-409abc61a4eb",
   "metadata": {},
   "outputs": [
    {
     "name": "stderr",
     "output_type": "stream",
     "text": [
      "100%|██████████| 2160/2160 [00:15<00:00, 137.42it/s]\n"
     ]
    }
   ],
   "source": [
    "mask_dataset = TrainValidDataset(\n",
    "    base_path = BASE_PATH, \n",
    "    data = df.loc[x_train], \n",
    "    transform = transform,\n",
    "    label=\"mask\"\n",
    ")"
   ]
  },
  {
   "cell_type": "code",
   "execution_count": 9,
   "id": "cc3c6314-bb34-40b2-bb11-e3549816d7a6",
   "metadata": {},
   "outputs": [
    {
     "name": "stderr",
     "output_type": "stream",
     "text": [
      "100%|██████████| 540/540 [00:03<00:00, 156.58it/s]\n"
     ]
    }
   ],
   "source": [
    "mask_val_dataset = TrainValidDataset(\n",
    "    base_path = BASE_PATH, \n",
    "    data = df.loc[x_val], \n",
    "    transform = transform,\n",
    "    label=\"mask\"\n",
    ")"
   ]
  },
  {
   "cell_type": "markdown",
   "id": "953d14ff-3c2e-4c86-a351-54947dd0a430",
   "metadata": {
    "tags": []
   },
   "source": [
    "### Dataset 확인용 Code\n",
    "```python\n",
    "import matplotlib.pyplot as plt\n",
    "image, label = val_dataset[0]\n",
    "plt.title(f'Class {label}')\n",
    "plt.imshow(image.permute(1,2,0))\n",
    "plt.show()\n",
    "```"
   ]
  },
  {
   "cell_type": "markdown",
   "id": "90b5f1d4-f809-42b6-82e6-a65c657e9aa6",
   "metadata": {
    "tags": []
   },
   "source": [
    "## DataLoader"
   ]
  },
  {
   "cell_type": "code",
   "execution_count": 10,
   "id": "d9d5ba54-0c1b-4433-8208-d9098c3dbe83",
   "metadata": {},
   "outputs": [],
   "source": [
    "mask_trainloader = torch.utils.data.DataLoader(\n",
    "    mask_dataset,\n",
    "    batch_size=64,\n",
    "    num_workers=1\n",
    ")"
   ]
  },
  {
   "cell_type": "code",
   "execution_count": 11,
   "id": "d8aed0d2-277d-441e-86ed-68150492a059",
   "metadata": {},
   "outputs": [],
   "source": [
    "mask_valloader = torch.utils.data.DataLoader(\n",
    "    mask_val_dataset,\n",
    "    batch_size=64,\n",
    "    num_workers=1\n",
    ")"
   ]
  },
  {
   "cell_type": "markdown",
   "id": "c731fd44-1ef7-418b-9a24-92ba3b529eda",
   "metadata": {
    "tags": []
   },
   "source": [
    "### Dataloader 확인용 Code\n",
    "```python\n",
    "import matplotlib.pyplot as plt\n",
    "images, labels = next(iter(trainloader))\n",
    "plt.title(f'Class {labels[0]}')\n",
    "plt.imshow(images[0].permute(1,2,0))\n",
    "plt.show()\n",
    "```"
   ]
  },
  {
   "cell_type": "markdown",
   "id": "3a14b331-f96c-43b4-bbff-6bdc6d3a7a80",
   "metadata": {},
   "source": [
    "## Model"
   ]
  },
  {
   "cell_type": "code",
   "execution_count": 12,
   "id": "6a836fbe-ab23-4671-8126-459e7f705c8c",
   "metadata": {},
   "outputs": [],
   "source": [
    "from Model import ModifiedModel"
   ]
  },
  {
   "cell_type": "code",
   "execution_count": 13,
   "id": "fced82c1-5b0d-4622-83c9-1080c0dc1c77",
   "metadata": {},
   "outputs": [
    {
     "name": "stderr",
     "output_type": "stream",
     "text": [
      "Downloading: \"https://download.pytorch.org/models/resnet18-5c106cde.pth\" to /opt/ml/.cache/torch/hub/checkpoints/resnet18-5c106cde.pth\n"
     ]
    },
    {
     "data": {
      "application/vnd.jupyter.widget-view+json": {
       "model_id": "10b896bdbb2340e49720f2197aea40b6",
       "version_major": 2,
       "version_minor": 0
      },
      "text/plain": [
       "HBox(children=(HTML(value=''), FloatProgress(value=0.0, max=46827520.0), HTML(value='')))"
      ]
     },
     "metadata": {},
     "output_type": "display_data"
    },
    {
     "name": "stdout",
     "output_type": "stream",
     "text": [
      "\n"
     ]
    }
   ],
   "source": [
    "mask_model = ModifiedModel(num_classes = 3).to(DEVICE)"
   ]
  },
  {
   "cell_type": "code",
   "execution_count": 14,
   "id": "701c6389-52f6-49ff-8fac-d88c30154944",
   "metadata": {},
   "outputs": [],
   "source": [
    "mask_optimizer = torch.optim.Adam(mask_model.parameters(), lr=LEARNING_RATE)"
   ]
  },
  {
   "cell_type": "markdown",
   "id": "3d9fa17e-850c-4e71-84b7-4dc52aa42d18",
   "metadata": {},
   "source": [
    "## Train"
   ]
  },
  {
   "cell_type": "code",
   "execution_count": 15,
   "id": "4d59e426-40df-47c9-aa9e-d413794b4068",
   "metadata": {},
   "outputs": [],
   "source": [
    "from train import train"
   ]
  },
  {
   "cell_type": "code",
   "execution_count": 16,
   "id": "72e4173f-7d6b-48bd-a7f7-0374b06d168f",
   "metadata": {},
   "outputs": [],
   "source": [
    "# Tensorboard\n",
    "from torch.utils.tensorboard import SummaryWriter\n",
    "train_writer = SummaryWriter('runs/train_resnet18_mask')\n",
    "val_writer = SummaryWriter('runs/val_resnet18_mask')"
   ]
  },
  {
   "cell_type": "code",
   "execution_count": 17,
   "id": "e65ca241-7b14-4fcb-a65c-3e47cb40db24",
   "metadata": {
    "scrolled": true,
    "tags": []
   },
   "outputs": [
    {
     "name": "stderr",
     "output_type": "stream",
     "text": [
      "100%|██████████| 237/237 [01:04<00:00,  3.69it/s]\n",
      "  0%|          | 0/237 [00:00<?, ?it/s]"
     ]
    },
    {
     "name": "stdout",
     "output_type": "stream",
     "text": [
      "Epoch 001: Loss: 0.2760 / Acc: 0.915 / F1: 0.90        | Val Loss: 0.0478 / Val Acc: 0.989 / Val F1: 0.98\n"
     ]
    },
    {
     "name": "stderr",
     "output_type": "stream",
     "text": [
      "100%|██████████| 237/237 [01:03<00:00,  3.71it/s]\n",
      "  0%|          | 0/237 [00:00<?, ?it/s]"
     ]
    },
    {
     "name": "stdout",
     "output_type": "stream",
     "text": [
      "Epoch 002: Loss: 0.0251 / Acc: 0.996 / F1: 0.99        | Val Loss: 0.0214 / Val Acc: 0.994 / Val F1: 0.99\n"
     ]
    },
    {
     "name": "stderr",
     "output_type": "stream",
     "text": [
      "100%|██████████| 237/237 [01:03<00:00,  3.75it/s]\n",
      "  0%|          | 0/237 [00:00<?, ?it/s]"
     ]
    },
    {
     "name": "stdout",
     "output_type": "stream",
     "text": [
      "Epoch 003: Loss: 0.0111 / Acc: 0.998 / F1: 1.00        | Val Loss: 0.0137 / Val Acc: 0.997 / Val F1: 1.00\n"
     ]
    },
    {
     "name": "stderr",
     "output_type": "stream",
     "text": [
      "100%|██████████| 237/237 [01:05<00:00,  3.62it/s]\n",
      "  0%|          | 0/237 [00:00<?, ?it/s]"
     ]
    },
    {
     "name": "stdout",
     "output_type": "stream",
     "text": [
      "Epoch 004: Loss: 0.0060 / Acc: 1.000 / F1: 1.00        | Val Loss: 0.0102 / Val Acc: 0.998 / Val F1: 1.00\n"
     ]
    },
    {
     "name": "stderr",
     "output_type": "stream",
     "text": [
      "100%|██████████| 237/237 [01:04<00:00,  3.65it/s]\n",
      "  0%|          | 0/237 [00:00<?, ?it/s]"
     ]
    },
    {
     "name": "stdout",
     "output_type": "stream",
     "text": [
      "Epoch 005: Loss: 0.0038 / Acc: 1.000 / F1: 1.00        | Val Loss: 0.0085 / Val Acc: 0.998 / Val F1: 1.00\n"
     ]
    },
    {
     "name": "stderr",
     "output_type": "stream",
     "text": [
      "100%|██████████| 237/237 [01:03<00:00,  3.73it/s]\n",
      "  0%|          | 0/237 [00:00<?, ?it/s]"
     ]
    },
    {
     "name": "stdout",
     "output_type": "stream",
     "text": [
      "Epoch 006: Loss: 0.0026 / Acc: 1.000 / F1: 1.00        | Val Loss: 0.0075 / Val Acc: 0.998 / Val F1: 1.00\n"
     ]
    },
    {
     "name": "stderr",
     "output_type": "stream",
     "text": [
      "100%|██████████| 237/237 [01:03<00:00,  3.73it/s]\n",
      "  0%|          | 0/237 [00:00<?, ?it/s]"
     ]
    },
    {
     "name": "stdout",
     "output_type": "stream",
     "text": [
      "Epoch 007: Loss: 0.0019 / Acc: 1.000 / F1: 1.00        | Val Loss: 0.0068 / Val Acc: 0.998 / Val F1: 1.00\n"
     ]
    },
    {
     "name": "stderr",
     "output_type": "stream",
     "text": [
      "100%|██████████| 237/237 [01:03<00:00,  3.75it/s]\n",
      "  0%|          | 0/237 [00:00<?, ?it/s]"
     ]
    },
    {
     "name": "stdout",
     "output_type": "stream",
     "text": [
      "Epoch 008: Loss: 0.0015 / Acc: 1.000 / F1: 1.00        | Val Loss: 0.0063 / Val Acc: 0.998 / Val F1: 1.00\n"
     ]
    },
    {
     "name": "stderr",
     "output_type": "stream",
     "text": [
      "100%|██████████| 237/237 [01:03<00:00,  3.72it/s]\n",
      "  0%|          | 0/237 [00:00<?, ?it/s]"
     ]
    },
    {
     "name": "stdout",
     "output_type": "stream",
     "text": [
      "Epoch 009: Loss: 0.0012 / Acc: 1.000 / F1: 1.00        | Val Loss: 0.0060 / Val Acc: 0.998 / Val F1: 1.00\n"
     ]
    },
    {
     "name": "stderr",
     "output_type": "stream",
     "text": [
      "100%|██████████| 237/237 [01:03<00:00,  3.74it/s]\n",
      "  0%|          | 0/237 [00:00<?, ?it/s]"
     ]
    },
    {
     "name": "stdout",
     "output_type": "stream",
     "text": [
      "Epoch 010: Loss: 0.0010 / Acc: 1.000 / F1: 1.00        | Val Loss: 0.0057 / Val Acc: 0.998 / Val F1: 1.00\n"
     ]
    },
    {
     "name": "stderr",
     "output_type": "stream",
     "text": [
      "100%|██████████| 237/237 [01:03<00:00,  3.72it/s]\n",
      "  0%|          | 0/237 [00:00<?, ?it/s]"
     ]
    },
    {
     "name": "stdout",
     "output_type": "stream",
     "text": [
      "Epoch 011: Loss: 0.0008 / Acc: 1.000 / F1: 1.00        | Val Loss: 0.0055 / Val Acc: 0.998 / Val F1: 1.00\n"
     ]
    },
    {
     "name": "stderr",
     "output_type": "stream",
     "text": [
      "100%|██████████| 237/237 [01:03<00:00,  3.75it/s]\n",
      "  0%|          | 0/237 [00:00<?, ?it/s]"
     ]
    },
    {
     "name": "stdout",
     "output_type": "stream",
     "text": [
      "Epoch 012: Loss: 0.0007 / Acc: 1.000 / F1: 1.00        | Val Loss: 0.0053 / Val Acc: 0.998 / Val F1: 1.00\n"
     ]
    },
    {
     "name": "stderr",
     "output_type": "stream",
     "text": [
      "100%|██████████| 237/237 [01:04<00:00,  3.69it/s]\n",
      "  0%|          | 0/237 [00:00<?, ?it/s]"
     ]
    },
    {
     "name": "stdout",
     "output_type": "stream",
     "text": [
      "Epoch 013: Loss: 0.0006 / Acc: 1.000 / F1: 1.00        | Val Loss: 0.0052 / Val Acc: 0.998 / Val F1: 1.00\n"
     ]
    },
    {
     "name": "stderr",
     "output_type": "stream",
     "text": [
      "100%|██████████| 237/237 [01:04<00:00,  3.69it/s]\n",
      "  0%|          | 0/237 [00:00<?, ?it/s]"
     ]
    },
    {
     "name": "stdout",
     "output_type": "stream",
     "text": [
      "Epoch 014: Loss: 0.0005 / Acc: 1.000 / F1: 1.00        | Val Loss: 0.0051 / Val Acc: 0.998 / Val F1: 1.00\n"
     ]
    },
    {
     "name": "stderr",
     "output_type": "stream",
     "text": [
      "100%|██████████| 237/237 [01:03<00:00,  3.73it/s]\n",
      "  0%|          | 0/237 [00:00<?, ?it/s]"
     ]
    },
    {
     "name": "stdout",
     "output_type": "stream",
     "text": [
      "Epoch 015: Loss: 0.0004 / Acc: 1.000 / F1: 1.00        | Val Loss: 0.0050 / Val Acc: 0.998 / Val F1: 1.00\n"
     ]
    },
    {
     "name": "stderr",
     "output_type": "stream",
     "text": [
      "100%|██████████| 237/237 [01:03<00:00,  3.74it/s]\n",
      "  0%|          | 0/237 [00:00<?, ?it/s]"
     ]
    },
    {
     "name": "stdout",
     "output_type": "stream",
     "text": [
      "Epoch 016: Loss: 0.0004 / Acc: 1.000 / F1: 1.00        | Val Loss: 0.0049 / Val Acc: 0.998 / Val F1: 1.00\n"
     ]
    },
    {
     "name": "stderr",
     "output_type": "stream",
     "text": [
      "100%|██████████| 237/237 [01:03<00:00,  3.72it/s]\n",
      "  0%|          | 0/237 [00:00<?, ?it/s]"
     ]
    },
    {
     "name": "stdout",
     "output_type": "stream",
     "text": [
      "Epoch 017: Loss: 0.0003 / Acc: 1.000 / F1: 1.00        | Val Loss: 0.0049 / Val Acc: 0.998 / Val F1: 1.00\n"
     ]
    },
    {
     "name": "stderr",
     "output_type": "stream",
     "text": [
      "100%|██████████| 237/237 [01:03<00:00,  3.70it/s]\n",
      "  0%|          | 0/237 [00:00<?, ?it/s]"
     ]
    },
    {
     "name": "stdout",
     "output_type": "stream",
     "text": [
      "Epoch 018: Loss: 0.0003 / Acc: 1.000 / F1: 1.00        | Val Loss: 0.0048 / Val Acc: 0.998 / Val F1: 1.00\n"
     ]
    },
    {
     "name": "stderr",
     "output_type": "stream",
     "text": [
      "100%|██████████| 237/237 [01:03<00:00,  3.73it/s]\n",
      "  0%|          | 0/237 [00:00<?, ?it/s]"
     ]
    },
    {
     "name": "stdout",
     "output_type": "stream",
     "text": [
      "Epoch 019: Loss: 0.0003 / Acc: 1.000 / F1: 1.00        | Val Loss: 0.0048 / Val Acc: 0.998 / Val F1: 1.00\n"
     ]
    },
    {
     "name": "stderr",
     "output_type": "stream",
     "text": [
      "100%|██████████| 237/237 [01:03<00:00,  3.73it/s]\n",
      "  0%|          | 0/237 [00:00<?, ?it/s]"
     ]
    },
    {
     "name": "stdout",
     "output_type": "stream",
     "text": [
      "Epoch 020: Loss: 0.0002 / Acc: 1.000 / F1: 1.00        | Val Loss: 0.0047 / Val Acc: 0.998 / Val F1: 1.00\n"
     ]
    },
    {
     "name": "stderr",
     "output_type": "stream",
     "text": [
      "100%|██████████| 237/237 [01:03<00:00,  3.72it/s]\n",
      "  0%|          | 0/237 [00:00<?, ?it/s]"
     ]
    },
    {
     "name": "stdout",
     "output_type": "stream",
     "text": [
      "Epoch 021: Loss: 0.0002 / Acc: 1.000 / F1: 1.00        | Val Loss: 0.0047 / Val Acc: 0.998 / Val F1: 1.00\n"
     ]
    },
    {
     "name": "stderr",
     "output_type": "stream",
     "text": [
      "100%|██████████| 237/237 [01:03<00:00,  3.75it/s]\n",
      "  0%|          | 0/237 [00:00<?, ?it/s]"
     ]
    },
    {
     "name": "stdout",
     "output_type": "stream",
     "text": [
      "Epoch 022: Loss: 0.0002 / Acc: 1.000 / F1: 1.00        | Val Loss: 0.0047 / Val Acc: 0.998 / Val F1: 1.00\n"
     ]
    },
    {
     "name": "stderr",
     "output_type": "stream",
     "text": [
      " 31%|███       | 73/237 [00:20<00:45,  3.61it/s]\n"
     ]
    },
    {
     "ename": "KeyboardInterrupt",
     "evalue": "",
     "output_type": "error",
     "traceback": [
      "\u001b[0;31m---------------------------------------------------------------------------\u001b[0m",
      "\u001b[0;31mKeyboardInterrupt\u001b[0m                         Traceback (most recent call last)",
      "\u001b[0;32m<ipython-input-17-d0e5a6632ebe>\u001b[0m in \u001b[0;36m<module>\u001b[0;34m\u001b[0m\n\u001b[1;32m      1\u001b[0m \u001b[0;31m### Parameter 변경 ###\u001b[0m\u001b[0;34m\u001b[0m\u001b[0;34m\u001b[0m\u001b[0;34m\u001b[0m\u001b[0m\n\u001b[0;32m----> 2\u001b[0;31m train(\n\u001b[0m\u001b[1;32m      3\u001b[0m     \u001b[0mmodel\u001b[0m\u001b[0;34m=\u001b[0m\u001b[0mmask_model\u001b[0m\u001b[0;34m,\u001b[0m\u001b[0;34m\u001b[0m\u001b[0;34m\u001b[0m\u001b[0m\n\u001b[1;32m      4\u001b[0m     \u001b[0moptimizer\u001b[0m\u001b[0;34m=\u001b[0m\u001b[0mmask_optimizer\u001b[0m\u001b[0;34m,\u001b[0m\u001b[0;34m\u001b[0m\u001b[0;34m\u001b[0m\u001b[0m\n\u001b[1;32m      5\u001b[0m     \u001b[0mtrain_loader\u001b[0m\u001b[0;34m=\u001b[0m\u001b[0mmask_trainloader\u001b[0m\u001b[0;34m,\u001b[0m\u001b[0;34m\u001b[0m\u001b[0;34m\u001b[0m\u001b[0m\n",
      "\u001b[0;32m~/mask-classification/resnet_model/train.py\u001b[0m in \u001b[0;36mtrain\u001b[0;34m(model, optimizer, train_loader, val_loader, device, epochs, save, saved_folder, train_writer, val_writer)\u001b[0m\n\u001b[1;32m     35\u001b[0m             \u001b[0moptimizer\u001b[0m\u001b[0;34m.\u001b[0m\u001b[0mstep\u001b[0m\u001b[0;34m(\u001b[0m\u001b[0;34m)\u001b[0m\u001b[0;34m\u001b[0m\u001b[0;34m\u001b[0m\u001b[0m\n\u001b[1;32m     36\u001b[0m \u001b[0;34m\u001b[0m\u001b[0m\n\u001b[0;32m---> 37\u001b[0;31m             \u001b[0mepoch_loss\u001b[0m \u001b[0;34m+=\u001b[0m \u001b[0mloss\u001b[0m\u001b[0;34m.\u001b[0m\u001b[0mitem\u001b[0m\u001b[0;34m(\u001b[0m\u001b[0;34m)\u001b[0m\u001b[0;34m\u001b[0m\u001b[0;34m\u001b[0m\u001b[0m\n\u001b[0m\u001b[1;32m     38\u001b[0m             \u001b[0mepoch_acc\u001b[0m \u001b[0;34m+=\u001b[0m \u001b[0macc\u001b[0m\u001b[0;34m[\u001b[0m\u001b[0;36m0\u001b[0m\u001b[0;34m]\u001b[0m\u001b[0;34m\u001b[0m\u001b[0;34m\u001b[0m\u001b[0m\n\u001b[1;32m     39\u001b[0m             \u001b[0mepoch_f1_score\u001b[0m \u001b[0;34m+=\u001b[0m \u001b[0macc\u001b[0m\u001b[0;34m[\u001b[0m\u001b[0;36m1\u001b[0m\u001b[0;34m]\u001b[0m\u001b[0;34m\u001b[0m\u001b[0;34m\u001b[0m\u001b[0m\n",
      "\u001b[0;31mKeyboardInterrupt\u001b[0m: "
     ]
    }
   ],
   "source": [
    "### Parameter 변경 ###\n",
    "train(\n",
    "    model=mask_model, \n",
    "    optimizer=mask_optimizer,\n",
    "    train_loader=mask_trainloader, \n",
    "    val_loader=mask_valloader,\n",
    "    device=DEVICE, \n",
    "    epochs=30, \n",
    "    save=True, \n",
    "    saved_folder=\"saved\",\n",
    "    train_writer=train_writer,\n",
    "    val_writer=val_writer\n",
    ")"
   ]
  },
  {
   "cell_type": "code",
   "execution_count": 18,
   "id": "a28798bb-56ce-4beb-94fc-7dd7898f62d9",
   "metadata": {},
   "outputs": [],
   "source": [
    "train_writer.close()\n",
    "val_writer.close()"
   ]
  },
  {
   "cell_type": "code",
   "execution_count": 19,
   "id": "e4713b76-a4b6-42ed-8928-a74d9c83a152",
   "metadata": {},
   "outputs": [],
   "source": [
    "# rm -rf /opt/ml/.cache/torch/hub/checkpoints/"
   ]
  },
  {
   "cell_type": "code",
   "execution_count": null,
   "id": "cf3f8a19-4d1e-4961-923e-4bb030180b6d",
   "metadata": {},
   "outputs": [],
   "source": []
  }
 ],
 "metadata": {
  "kernelspec": {
   "display_name": "Python 3 (ipykernel)",
   "language": "python",
   "name": "python3"
  },
  "language_info": {
   "codemirror_mode": {
    "name": "ipython",
    "version": 3
   },
   "file_extension": ".py",
   "mimetype": "text/x-python",
   "name": "python",
   "nbconvert_exporter": "python",
   "pygments_lexer": "ipython3",
   "version": "3.8.5"
  }
 },
 "nbformat": 4,
 "nbformat_minor": 5
}
