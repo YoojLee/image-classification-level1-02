{
 "cells": [
  {
   "cell_type": "code",
   "execution_count": 1,
   "id": "daa234a5-a5ea-435a-9d0b-736646930b0d",
   "metadata": {},
   "outputs": [],
   "source": [
    "# # Run just once\n",
    "# !pip install torchmetrics"
   ]
  },
  {
   "cell_type": "code",
   "execution_count": 2,
   "id": "0f549dc6-701a-4dcb-b600-e3b94f2a5748",
   "metadata": {
    "tags": []
   },
   "outputs": [],
   "source": [
    "import os\n",
    "from PIL import Image\n",
    "import numpy as np\n",
    "import matplotlib.pyplot as plt\n",
    "import cv2\n",
    "import pandas as pd\n",
    "import glob\n",
    "from tqdm import tqdm\n",
    "import random\n",
    "from sklearn.model_selection import train_test_split\n",
    "import warnings\n",
    "\n",
    "import torch\n",
    "from torch.utils.data import Dataset, DataLoader, WeightedRandomSampler, ConcatDataset\n",
    "from torchvision import transforms, utils\n",
    "import torch.nn as nn\n",
    "from torch.utils.tensorboard import SummaryWriter\n",
    "from torchmetrics import F1\n",
    "\n",
    "from Dataset import AgeDataset\n",
    "from myutil import mapAttributes, save_aug, mapAge\n",
    "from model import MyResNet18"
   ]
  },
  {
   "cell_type": "code",
   "execution_count": 3,
   "id": "56cf517a-6758-40e9-86cd-81105554844f",
   "metadata": {},
   "outputs": [],
   "source": [
    "warnings.filterwarnings(action='ignore') "
   ]
  },
  {
   "cell_type": "code",
   "execution_count": 4,
   "id": "05030b4c-f930-4f69-be7d-1f3a93af53b6",
   "metadata": {
    "tags": []
   },
   "outputs": [],
   "source": [
    "# # run just once! (takes about 30 sec.)\n",
    "# base_path = \"../input/data/train\"\n",
    "# df = pd.read_csv(os.path.join(base_path, \"train.csv\"))\n",
    "# old_labels = df.loc[df.age>=60]\n",
    "# myaug = transforms.Compose([\n",
    "#     transforms.RandomHorizontalFlip(),\n",
    "#     transforms.ColorJitter(contrast=0.1),\n",
    "#     transforms.RandomPosterize(bits=2),\n",
    "#     transforms.ToTensor()\n",
    "# ])\n",
    "# save_aug(myaug, old_labels)"
   ]
  },
  {
   "cell_type": "code",
   "execution_count": 5,
   "id": "0049a9ba-2e7e-47a7-a735-51410a365015",
   "metadata": {},
   "outputs": [],
   "source": [
    "# set random seed (이렇게 하면 되는건가.. 흠)\n",
    "def seed_everything(seed):\n",
    "    random.seed(seed)\n",
    "    os.environ['PYTHONHASHSEED'] = str(seed)\n",
    "    np.random.seed(seed)\n",
    "    torch.manual_seed(seed)\n",
    "    torch.cuda.manual_seed(seed)\n",
    "    torch.cuda.manual_seed_all(seed)\n",
    "    torch.backends.cudnn.deterministic = True\n",
    "    torch.backends.cudnn.benchmark = True\n",
    "     \n",
    "seed_everything(42)"
   ]
  },
  {
   "cell_type": "markdown",
   "id": "bcb8406b-7e61-4129-8f01-11d25235356a",
   "metadata": {
    "tags": []
   },
   "source": [
    "## split train, val folders"
   ]
  },
  {
   "cell_type": "code",
   "execution_count": 6,
   "id": "974fd439-cff4-4035-9c2e-394349e103f4",
   "metadata": {
    "tags": []
   },
   "outputs": [
    {
     "data": {
      "text/plain": [
       "(2313, 579)"
      ]
     },
     "execution_count": 6,
     "metadata": {},
     "output_type": "execute_result"
    }
   ],
   "source": [
    "base_path = \"/opt/ml/input/data/train\"\n",
    "\n",
    "# combine two dataframes (original + augmented)\n",
    "df1 = pd.read_csv(os.path.join(base_path, \"train.csv\"))\n",
    "df2 = pd.read_csv(os.path.join(base_path, \"old_path_augmented.csv\"))\n",
    "df = df1.append(df2)  # 2892 rows (= 2700 + 192)\n",
    "\n",
    "y_data = df.apply(lambda x: mapAge(x['path']), axis=1)\n",
    "\n",
    "x_train, x_val, y_train, y_val = train_test_split(df.index, y_data, test_size=0.2, random_state=42, stratify=y_data)\n",
    "len(x_train), len(x_val)  # 2313, 579 확인!"
   ]
  },
  {
   "cell_type": "code",
   "execution_count": 7,
   "id": "f9564b7a-f283-46c1-bace-d2ee0b718ded",
   "metadata": {},
   "outputs": [],
   "source": [
    "DEVICE = torch.device(\"cuda:0\" if torch.cuda.is_available() else \"cpu\")\n",
    "BATCH_SIZE = 32\n",
    "LEARNING_RATE = 1e-5\n",
    "EPOCHS = 30"
   ]
  },
  {
   "cell_type": "markdown",
   "id": "e89ff522-f027-429f-b3f9-94204453e0ef",
   "metadata": {},
   "source": [
    "## Dataset & Dataloader"
   ]
  },
  {
   "cell_type": "code",
   "execution_count": 9,
   "id": "3477ecad-1d6c-4481-9174-ed45018cca9c",
   "metadata": {},
   "outputs": [
    {
     "name": "stderr",
     "output_type": "stream",
     "text": [
      "100%|██████████| 2313/2313 [00:00<00:00, 19709.21it/s]\n",
      "100%|██████████| 579/579 [00:00<00:00, 19721.63it/s]"
     ]
    },
    {
     "name": "stdout",
     "output_type": "stream",
     "text": [
      "from dataset: 2313\n",
      "from dataset: 579\n"
     ]
    },
    {
     "name": "stderr",
     "output_type": "stream",
     "text": [
      "\n"
     ]
    }
   ],
   "source": [
    "train_dataset = AgeDataset(\n",
    "    data_path = base_path,\n",
    "    data = df.iloc[x_train],\n",
    "    transform = transforms.Compose([\n",
    "         transforms.Resize((128, 128)),\n",
    "         transforms.ToTensor()\n",
    "    ])\n",
    ")\n",
    "\n",
    "val_dataset = AgeDataset(\n",
    "    data_path = base_path,\n",
    "    data = df.iloc[x_val],\n",
    "    transform = transforms.Compose([\n",
    "         transforms.Resize((128, 128)),\n",
    "         transforms.ToTensor()\n",
    "    ])\n",
    ")"
   ]
  },
  {
   "cell_type": "code",
   "execution_count": 10,
   "id": "4ae3e89b-213c-47af-8bb7-7d0448571830",
   "metadata": {},
   "outputs": [],
   "source": [
    "train_loader = DataLoader(\n",
    "    train_dataset,\n",
    "    batch_size=BATCH_SIZE,\n",
    "    num_workers=4,\n",
    "    drop_last = True\n",
    ")\n",
    "val_loader = DataLoader(\n",
    "    val_dataset,\n",
    "    batch_size=BATCH_SIZE,\n",
    "    num_workers=4,\n",
    "    drop_last = True\n",
    ")\n",
    "\n",
    "# x, y = next(iter(train_loader))\n",
    "# x.shape, y.shape  # (torch.Size([32, 3, 128, 128]), torch.Size([32]))"
   ]
  },
  {
   "cell_type": "code",
   "execution_count": 11,
   "id": "97732ae7-b97a-467c-890b-f022712d9964",
   "metadata": {},
   "outputs": [],
   "source": [
    "# model, loss, optm\n",
    "resnet18 = MyResNet18(num_classes=3).to(DEVICE)\n",
    "multi_criterion = nn.MultiLabelSoftMarginLoss(reduction='mean')\n",
    "optm = torch.optim.Adam(resnet18.parameters(), lr=LEARNING_RATE)"
   ]
  },
  {
   "cell_type": "code",
   "execution_count": 12,
   "id": "d47e790d-c005-45f7-ae9e-0e5e8378f5a2",
   "metadata": {},
   "outputs": [],
   "source": [
    "# calculates accuracy\n",
    "def get_acc(y_pred, y_test):  # torch.Size([32, 3]) torch.Size([32])\n",
    "    output = torch.argmax(y_pred, dim=1)\n",
    "    correct = sum(output == y_test)/len(output)\n",
    "    return torch.sum(correct)\n",
    "\n",
    "# labels with proper dimension\n",
    "def labeling(x, num_labels):\n",
    "    output = torch.zeros((x.shape[0], num_labels))\n",
    "    for i in range(x.shape[0]):\n",
    "        output[i,x[i]] = 1\n",
    "    return output\n",
    "\n",
    "# F1 score\n",
    "f1 = F1(num_classes=3)"
   ]
  },
  {
   "cell_type": "markdown",
   "id": "4d3aabff-57c1-4a61-bc06-b23e39c977ac",
   "metadata": {},
   "source": [
    "## Train"
   ]
  },
  {
   "cell_type": "code",
   "execution_count": 13,
   "id": "98460be9-a5d9-49ca-a97f-4a645d703a13",
   "metadata": {},
   "outputs": [
    {
     "name": "stderr",
     "output_type": "stream",
     "text": [
      "  3%|▎         | 1/30 [00:24<11:40, 24.16s/it]"
     ]
    },
    {
     "name": "stdout",
     "output_type": "stream",
     "text": [
      "train_loss_avg: 0.43779584765434265 train_accuracy_avg: 0.7366336584091187 train_f1_avg: tensor(0.7366)\n",
      "val_loss_avg: 0.25326958298683167 val_accuracy_avg: 0.8536706566810608 val_f1_avg: tensor(0.8537)\n"
     ]
    },
    {
     "name": "stderr",
     "output_type": "stream",
     "text": [
      "  7%|▋         | 2/30 [00:48<11:16, 24.15s/it]"
     ]
    },
    {
     "name": "stdout",
     "output_type": "stream",
     "text": [
      "train_loss_avg: 0.2713545858860016 train_accuracy_avg: 0.8444926142692566 train_f1_avg: tensor(0.8445)\n",
      "val_loss_avg: 0.20579001307487488 val_accuracy_avg: 0.87202388048172 val_f1_avg: tensor(0.8720)\n"
     ]
    },
    {
     "name": "stderr",
     "output_type": "stream",
     "text": [
      " 10%|█         | 3/30 [01:12<10:50, 24.09s/it]"
     ]
    },
    {
     "name": "stdout",
     "output_type": "stream",
     "text": [
      "train_loss_avg: 0.20599499344825745 train_accuracy_avg: 0.888737678527832 train_f1_avg: tensor(0.8887)\n",
      "val_loss_avg: 0.18783751130104065 val_accuracy_avg: 0.8829365372657776 val_f1_avg: tensor(0.8829)\n"
     ]
    },
    {
     "name": "stderr",
     "output_type": "stream",
     "text": [
      " 13%|█▎        | 4/30 [01:36<10:26, 24.10s/it]"
     ]
    },
    {
     "name": "stdout",
     "output_type": "stream",
     "text": [
      "train_loss_avg: 0.15631328523159027 train_accuracy_avg: 0.9252475500106812 train_f1_avg: tensor(0.9252)\n",
      "val_loss_avg: 0.1812954992055893 val_accuracy_avg: 0.888888955116272 val_f1_avg: tensor(0.8889)\n"
     ]
    },
    {
     "name": "stderr",
     "output_type": "stream",
     "text": [
      " 17%|█▋        | 5/30 [02:00<10:04, 24.17s/it]"
     ]
    },
    {
     "name": "stdout",
     "output_type": "stream",
     "text": [
      "train_loss_avg: 0.1163567304611206 train_accuracy_avg: 0.9549505114555359 train_f1_avg: tensor(0.9550)\n",
      "val_loss_avg: 0.181706503033638 val_accuracy_avg: 0.8928571939468384 val_f1_avg: tensor(0.8929)\n"
     ]
    },
    {
     "name": "stderr",
     "output_type": "stream",
     "text": [
      " 20%|██        | 6/30 [02:24<09:39, 24.16s/it]"
     ]
    },
    {
     "name": "stdout",
     "output_type": "stream",
     "text": [
      "train_loss_avg: 0.08627931028604507 train_accuracy_avg: 0.9732673764228821 train_f1_avg: tensor(0.9733)\n",
      "val_loss_avg: 0.1862054020166397 val_accuracy_avg: 0.8948413133621216 val_f1_avg: tensor(0.8948)\n"
     ]
    },
    {
     "name": "stderr",
     "output_type": "stream",
     "text": [
      " 23%|██▎       | 7/30 [02:49<09:17, 24.22s/it]"
     ]
    },
    {
     "name": "stdout",
     "output_type": "stream",
     "text": [
      "train_loss_avg: 0.06564103066921234 train_accuracy_avg: 0.9813737869262695 train_f1_avg: tensor(0.9814)\n",
      "val_loss_avg: 0.19475562870502472 val_accuracy_avg: 0.8945932984352112 val_f1_avg: tensor(0.8946)\n"
     ]
    },
    {
     "name": "stderr",
     "output_type": "stream",
     "text": [
      " 27%|██▋       | 8/30 [03:13<08:53, 24.25s/it]"
     ]
    },
    {
     "name": "stdout",
     "output_type": "stream",
     "text": [
      "train_loss_avg: 0.054399918764829636 train_accuracy_avg: 0.9823638796806335 train_f1_avg: tensor(0.9824)\n",
      "val_loss_avg: 0.2018149048089981 val_accuracy_avg: 0.8928571939468384 val_f1_avg: tensor(0.8929)\n"
     ]
    },
    {
     "name": "stderr",
     "output_type": "stream",
     "text": [
      " 30%|███       | 9/30 [03:37<08:29, 24.28s/it]"
     ]
    },
    {
     "name": "stdout",
     "output_type": "stream",
     "text": [
      "train_loss_avg: 0.061474867165088654 train_accuracy_avg: 0.9748144149780273 train_f1_avg: tensor(0.9748)\n",
      "val_loss_avg: 0.20702315866947174 val_accuracy_avg: 0.8955853581428528 val_f1_avg: tensor(0.8956)\n"
     ]
    },
    {
     "name": "stderr",
     "output_type": "stream",
     "text": [
      " 33%|███▎      | 10/30 [04:02<08:05, 24.29s/it]"
     ]
    },
    {
     "name": "stdout",
     "output_type": "stream",
     "text": [
      "train_loss_avg: 0.0627971738576889 train_accuracy_avg: 0.9766708016395569 train_f1_avg: tensor(0.9767)\n",
      "val_loss_avg: 0.2011970579624176 val_accuracy_avg: 0.8980655074119568 val_f1_avg: tensor(0.8981)\n"
     ]
    },
    {
     "name": "stderr",
     "output_type": "stream",
     "text": [
      " 37%|███▋      | 11/30 [04:26<07:41, 24.26s/it]"
     ]
    },
    {
     "name": "stdout",
     "output_type": "stream",
     "text": [
      "train_loss_avg: 0.04555661603808403 train_accuracy_avg: 0.9829826951026917 train_f1_avg: tensor(0.9830)\n",
      "val_loss_avg: 0.21223242580890656 val_accuracy_avg: 0.8928571939468384 val_f1_avg: tensor(0.8929)\n"
     ]
    },
    {
     "name": "stderr",
     "output_type": "stream",
     "text": [
      " 40%|████      | 12/30 [04:50<07:17, 24.31s/it]"
     ]
    },
    {
     "name": "stdout",
     "output_type": "stream",
     "text": [
      "train_loss_avg: 0.04471603035926819 train_accuracy_avg: 0.9830445647239685 train_f1_avg: tensor(0.9830)\n",
      "val_loss_avg: 0.21212993562221527 val_accuracy_avg: 0.8983135223388672 val_f1_avg: tensor(0.8983)\n"
     ]
    },
    {
     "name": "stderr",
     "output_type": "stream",
     "text": [
      " 43%|████▎     | 13/30 [05:15<06:53, 24.31s/it]"
     ]
    },
    {
     "name": "stdout",
     "output_type": "stream",
     "text": [
      "train_loss_avg: 0.044635217636823654 train_accuracy_avg: 0.9821163415908813 train_f1_avg: tensor(0.9821)\n",
      "val_loss_avg: 0.21838022768497467 val_accuracy_avg: 0.8911210894584656 val_f1_avg: tensor(0.8911)\n"
     ]
    },
    {
     "name": "stderr",
     "output_type": "stream",
     "text": [
      " 47%|████▋     | 14/30 [05:39<06:28, 24.31s/it]"
     ]
    },
    {
     "name": "stdout",
     "output_type": "stream",
     "text": [
      "train_loss_avg: 0.041064318269491196 train_accuracy_avg: 0.9833539724349976 train_f1_avg: tensor(0.9834)\n",
      "val_loss_avg: 0.2131245881319046 val_accuracy_avg: 0.897569477558136 val_f1_avg: tensor(0.8976)\n"
     ]
    },
    {
     "name": "stderr",
     "output_type": "stream",
     "text": [
      " 50%|█████     | 15/30 [06:03<06:04, 24.30s/it]"
     ]
    },
    {
     "name": "stdout",
     "output_type": "stream",
     "text": [
      "train_loss_avg: 0.03801656514406204 train_accuracy_avg: 0.984158456325531 train_f1_avg: tensor(0.9842)\n",
      "val_loss_avg: 0.22589392960071564 val_accuracy_avg: 0.8933532238006592 val_f1_avg: tensor(0.8934)\n"
     ]
    },
    {
     "name": "stderr",
     "output_type": "stream",
     "text": [
      " 53%|█████▎    | 16/30 [06:28<05:40, 24.32s/it]"
     ]
    },
    {
     "name": "stdout",
     "output_type": "stream",
     "text": [
      "train_loss_avg: 0.036728017032146454 train_accuracy_avg: 0.985148549079895 train_f1_avg: tensor(0.9851)\n",
      "val_loss_avg: 0.22264882922172546 val_accuracy_avg: 0.895089328289032 val_f1_avg: tensor(0.8951)\n"
     ]
    },
    {
     "name": "stderr",
     "output_type": "stream",
     "text": [
      " 57%|█████▋    | 17/30 [06:52<05:15, 24.28s/it]"
     ]
    },
    {
     "name": "stdout",
     "output_type": "stream",
     "text": [
      "train_loss_avg: 0.03629192337393761 train_accuracy_avg: 0.9849010109901428 train_f1_avg: tensor(0.9849)\n",
      "val_loss_avg: 0.21960784494876862 val_accuracy_avg: 0.897569477558136 val_f1_avg: tensor(0.8976)\n"
     ]
    },
    {
     "name": "stderr",
     "output_type": "stream",
     "text": [
      " 60%|██████    | 18/30 [07:16<04:50, 24.25s/it]"
     ]
    },
    {
     "name": "stdout",
     "output_type": "stream",
     "text": [
      "train_loss_avg: 0.03390559181571007 train_accuracy_avg: 0.984839141368866 train_f1_avg: tensor(0.9848)\n",
      "val_loss_avg: 0.23732726275920868 val_accuracy_avg: 0.8931052088737488 val_f1_avg: tensor(0.8931)\n"
     ]
    },
    {
     "name": "stderr",
     "output_type": "stream",
     "text": [
      " 63%|██████▎   | 19/30 [07:40<04:26, 24.26s/it]"
     ]
    },
    {
     "name": "stdout",
     "output_type": "stream",
     "text": [
      "train_loss_avg: 0.032863255590200424 train_accuracy_avg: 0.9878712892532349 train_f1_avg: tensor(0.9879)\n",
      "val_loss_avg: 0.21668946743011475 val_accuracy_avg: 0.902033805847168 val_f1_avg: tensor(0.9020)\n"
     ]
    },
    {
     "name": "stderr",
     "output_type": "stream",
     "text": [
      " 67%|██████▋   | 20/30 [08:04<04:02, 24.26s/it]"
     ]
    },
    {
     "name": "stdout",
     "output_type": "stream",
     "text": [
      "train_loss_avg: 0.030375299975275993 train_accuracy_avg: 0.9883663654327393 train_f1_avg: tensor(0.9884)\n",
      "val_loss_avg: 0.2350822240114212 val_accuracy_avg: 0.89384925365448 val_f1_avg: tensor(0.8938)\n"
     ]
    },
    {
     "name": "stderr",
     "output_type": "stream",
     "text": [
      " 70%|███████   | 21/30 [08:29<03:38, 24.24s/it]"
     ]
    },
    {
     "name": "stdout",
     "output_type": "stream",
     "text": [
      "train_loss_avg: 0.029693249613046646 train_accuracy_avg: 0.9887376427650452 train_f1_avg: tensor(0.9887)\n",
      "val_loss_avg: 0.23294806480407715 val_accuracy_avg: 0.8965774178504944 val_f1_avg: tensor(0.8966)\n"
     ]
    },
    {
     "name": "stderr",
     "output_type": "stream",
     "text": [
      " 73%|███████▎  | 22/30 [08:53<03:14, 24.27s/it]"
     ]
    },
    {
     "name": "stdout",
     "output_type": "stream",
     "text": [
      "train_loss_avg: 0.028608987107872963 train_accuracy_avg: 0.9887376427650452 train_f1_avg: tensor(0.9887)\n",
      "val_loss_avg: 0.23408085107803345 val_accuracy_avg: 0.8968254327774048 val_f1_avg: tensor(0.8968)\n"
     ]
    },
    {
     "name": "stderr",
     "output_type": "stream",
     "text": [
      " 77%|███████▋  | 23/30 [09:17<02:50, 24.29s/it]"
     ]
    },
    {
     "name": "stdout",
     "output_type": "stream",
     "text": [
      "train_loss_avg: 0.027610881254076958 train_accuracy_avg: 0.9897277355194092 train_f1_avg: tensor(0.9897)\n",
      "val_loss_avg: 0.24797217547893524 val_accuracy_avg: 0.8940972685813904 val_f1_avg: tensor(0.8941)\n"
     ]
    },
    {
     "name": "stderr",
     "output_type": "stream",
     "text": [
      " 80%|████████  | 24/30 [09:42<02:26, 24.34s/it]"
     ]
    },
    {
     "name": "stdout",
     "output_type": "stream",
     "text": [
      "train_loss_avg: 0.026461830362677574 train_accuracy_avg: 0.9896039962768555 train_f1_avg: tensor(0.9896)\n",
      "val_loss_avg: 0.2356463223695755 val_accuracy_avg: 0.8955853581428528 val_f1_avg: tensor(0.8956)\n"
     ]
    },
    {
     "name": "stderr",
     "output_type": "stream",
     "text": [
      " 80%|████████  | 24/30 [10:04<02:31, 25.18s/it]\n"
     ]
    },
    {
     "ename": "KeyboardInterrupt",
     "evalue": "",
     "output_type": "error",
     "traceback": [
      "\u001b[0;31m---------------------------------------------------------------------------\u001b[0m",
      "\u001b[0;31mKeyboardInterrupt\u001b[0m                         Traceback (most recent call last)",
      "\u001b[0;32m<ipython-input-13-b5c19c9c1540>\u001b[0m in \u001b[0;36m<module>\u001b[0;34m\u001b[0m\n\u001b[1;32m     60\u001b[0m         \u001b[0mval_accuracy_ep\u001b[0m \u001b[0;34m=\u001b[0m \u001b[0;36m0\u001b[0m\u001b[0;34m\u001b[0m\u001b[0;34m\u001b[0m\u001b[0m\n\u001b[1;32m     61\u001b[0m         \u001b[0mval_f1_ep\u001b[0m \u001b[0;34m=\u001b[0m \u001b[0;36m0\u001b[0m\u001b[0;34m\u001b[0m\u001b[0;34m\u001b[0m\u001b[0m\n\u001b[0;32m---> 62\u001b[0;31m         \u001b[0;32mfor\u001b[0m \u001b[0mX\u001b[0m\u001b[0;34m,\u001b[0m \u001b[0my\u001b[0m \u001b[0;32min\u001b[0m \u001b[0miter\u001b[0m\u001b[0;34m(\u001b[0m\u001b[0mval_loader\u001b[0m\u001b[0;34m)\u001b[0m\u001b[0;34m:\u001b[0m\u001b[0;34m\u001b[0m\u001b[0;34m\u001b[0m\u001b[0m\n\u001b[0m\u001b[1;32m     63\u001b[0m             \u001b[0;31m## testing phrase\u001b[0m\u001b[0;34m\u001b[0m\u001b[0;34m\u001b[0m\u001b[0;34m\u001b[0m\u001b[0m\n\u001b[1;32m     64\u001b[0m             \u001b[0mresnet18\u001b[0m\u001b[0;34m.\u001b[0m\u001b[0meval\u001b[0m\u001b[0;34m(\u001b[0m\u001b[0;34m)\u001b[0m\u001b[0;34m\u001b[0m\u001b[0;34m\u001b[0m\u001b[0m\n",
      "\u001b[0;32m/opt/conda/lib/python3.8/site-packages/torch/utils/data/dataloader.py\u001b[0m in \u001b[0;36m__next__\u001b[0;34m(self)\u001b[0m\n\u001b[1;32m    519\u001b[0m             \u001b[0;32mif\u001b[0m \u001b[0mself\u001b[0m\u001b[0;34m.\u001b[0m\u001b[0m_sampler_iter\u001b[0m \u001b[0;32mis\u001b[0m \u001b[0;32mNone\u001b[0m\u001b[0;34m:\u001b[0m\u001b[0;34m\u001b[0m\u001b[0;34m\u001b[0m\u001b[0m\n\u001b[1;32m    520\u001b[0m                 \u001b[0mself\u001b[0m\u001b[0;34m.\u001b[0m\u001b[0m_reset\u001b[0m\u001b[0;34m(\u001b[0m\u001b[0;34m)\u001b[0m\u001b[0;34m\u001b[0m\u001b[0;34m\u001b[0m\u001b[0m\n\u001b[0;32m--> 521\u001b[0;31m             \u001b[0mdata\u001b[0m \u001b[0;34m=\u001b[0m \u001b[0mself\u001b[0m\u001b[0;34m.\u001b[0m\u001b[0m_next_data\u001b[0m\u001b[0;34m(\u001b[0m\u001b[0;34m)\u001b[0m\u001b[0;34m\u001b[0m\u001b[0;34m\u001b[0m\u001b[0m\n\u001b[0m\u001b[1;32m    522\u001b[0m             \u001b[0mself\u001b[0m\u001b[0;34m.\u001b[0m\u001b[0m_num_yielded\u001b[0m \u001b[0;34m+=\u001b[0m \u001b[0;36m1\u001b[0m\u001b[0;34m\u001b[0m\u001b[0;34m\u001b[0m\u001b[0m\n\u001b[1;32m    523\u001b[0m             \u001b[0;32mif\u001b[0m \u001b[0mself\u001b[0m\u001b[0;34m.\u001b[0m\u001b[0m_dataset_kind\u001b[0m \u001b[0;34m==\u001b[0m \u001b[0m_DatasetKind\u001b[0m\u001b[0;34m.\u001b[0m\u001b[0mIterable\u001b[0m \u001b[0;32mand\u001b[0m\u001b[0;31m \u001b[0m\u001b[0;31m\\\u001b[0m\u001b[0;34m\u001b[0m\u001b[0;34m\u001b[0m\u001b[0m\n",
      "\u001b[0;32m/opt/conda/lib/python3.8/site-packages/torch/utils/data/dataloader.py\u001b[0m in \u001b[0;36m_next_data\u001b[0;34m(self)\u001b[0m\n\u001b[1;32m   1184\u001b[0m \u001b[0;34m\u001b[0m\u001b[0m\n\u001b[1;32m   1185\u001b[0m             \u001b[0;32massert\u001b[0m \u001b[0;32mnot\u001b[0m \u001b[0mself\u001b[0m\u001b[0;34m.\u001b[0m\u001b[0m_shutdown\u001b[0m \u001b[0;32mand\u001b[0m \u001b[0mself\u001b[0m\u001b[0;34m.\u001b[0m\u001b[0m_tasks_outstanding\u001b[0m \u001b[0;34m>\u001b[0m \u001b[0;36m0\u001b[0m\u001b[0;34m\u001b[0m\u001b[0;34m\u001b[0m\u001b[0m\n\u001b[0;32m-> 1186\u001b[0;31m             \u001b[0midx\u001b[0m\u001b[0;34m,\u001b[0m \u001b[0mdata\u001b[0m \u001b[0;34m=\u001b[0m \u001b[0mself\u001b[0m\u001b[0;34m.\u001b[0m\u001b[0m_get_data\u001b[0m\u001b[0;34m(\u001b[0m\u001b[0;34m)\u001b[0m\u001b[0;34m\u001b[0m\u001b[0;34m\u001b[0m\u001b[0m\n\u001b[0m\u001b[1;32m   1187\u001b[0m             \u001b[0mself\u001b[0m\u001b[0;34m.\u001b[0m\u001b[0m_tasks_outstanding\u001b[0m \u001b[0;34m-=\u001b[0m \u001b[0;36m1\u001b[0m\u001b[0;34m\u001b[0m\u001b[0;34m\u001b[0m\u001b[0m\n\u001b[1;32m   1188\u001b[0m             \u001b[0;32mif\u001b[0m \u001b[0mself\u001b[0m\u001b[0;34m.\u001b[0m\u001b[0m_dataset_kind\u001b[0m \u001b[0;34m==\u001b[0m \u001b[0m_DatasetKind\u001b[0m\u001b[0;34m.\u001b[0m\u001b[0mIterable\u001b[0m\u001b[0;34m:\u001b[0m\u001b[0;34m\u001b[0m\u001b[0;34m\u001b[0m\u001b[0m\n",
      "\u001b[0;32m/opt/conda/lib/python3.8/site-packages/torch/utils/data/dataloader.py\u001b[0m in \u001b[0;36m_get_data\u001b[0;34m(self)\u001b[0m\n\u001b[1;32m   1150\u001b[0m         \u001b[0;32melse\u001b[0m\u001b[0;34m:\u001b[0m\u001b[0;34m\u001b[0m\u001b[0;34m\u001b[0m\u001b[0m\n\u001b[1;32m   1151\u001b[0m             \u001b[0;32mwhile\u001b[0m \u001b[0;32mTrue\u001b[0m\u001b[0;34m:\u001b[0m\u001b[0;34m\u001b[0m\u001b[0;34m\u001b[0m\u001b[0m\n\u001b[0;32m-> 1152\u001b[0;31m                 \u001b[0msuccess\u001b[0m\u001b[0;34m,\u001b[0m \u001b[0mdata\u001b[0m \u001b[0;34m=\u001b[0m \u001b[0mself\u001b[0m\u001b[0;34m.\u001b[0m\u001b[0m_try_get_data\u001b[0m\u001b[0;34m(\u001b[0m\u001b[0;34m)\u001b[0m\u001b[0;34m\u001b[0m\u001b[0;34m\u001b[0m\u001b[0m\n\u001b[0m\u001b[1;32m   1153\u001b[0m                 \u001b[0;32mif\u001b[0m \u001b[0msuccess\u001b[0m\u001b[0;34m:\u001b[0m\u001b[0;34m\u001b[0m\u001b[0;34m\u001b[0m\u001b[0m\n\u001b[1;32m   1154\u001b[0m                     \u001b[0;32mreturn\u001b[0m \u001b[0mdata\u001b[0m\u001b[0;34m\u001b[0m\u001b[0;34m\u001b[0m\u001b[0m\n",
      "\u001b[0;32m/opt/conda/lib/python3.8/site-packages/torch/utils/data/dataloader.py\u001b[0m in \u001b[0;36m_try_get_data\u001b[0;34m(self, timeout)\u001b[0m\n\u001b[1;32m    988\u001b[0m         \u001b[0;31m#   (bool: whether successfully get data, any: data if successful else None)\u001b[0m\u001b[0;34m\u001b[0m\u001b[0;34m\u001b[0m\u001b[0;34m\u001b[0m\u001b[0m\n\u001b[1;32m    989\u001b[0m         \u001b[0;32mtry\u001b[0m\u001b[0;34m:\u001b[0m\u001b[0;34m\u001b[0m\u001b[0;34m\u001b[0m\u001b[0m\n\u001b[0;32m--> 990\u001b[0;31m             \u001b[0mdata\u001b[0m \u001b[0;34m=\u001b[0m \u001b[0mself\u001b[0m\u001b[0;34m.\u001b[0m\u001b[0m_data_queue\u001b[0m\u001b[0;34m.\u001b[0m\u001b[0mget\u001b[0m\u001b[0;34m(\u001b[0m\u001b[0mtimeout\u001b[0m\u001b[0;34m=\u001b[0m\u001b[0mtimeout\u001b[0m\u001b[0;34m)\u001b[0m\u001b[0;34m\u001b[0m\u001b[0;34m\u001b[0m\u001b[0m\n\u001b[0m\u001b[1;32m    991\u001b[0m             \u001b[0;32mreturn\u001b[0m \u001b[0;34m(\u001b[0m\u001b[0;32mTrue\u001b[0m\u001b[0;34m,\u001b[0m \u001b[0mdata\u001b[0m\u001b[0;34m)\u001b[0m\u001b[0;34m\u001b[0m\u001b[0;34m\u001b[0m\u001b[0m\n\u001b[1;32m    992\u001b[0m         \u001b[0;32mexcept\u001b[0m \u001b[0mException\u001b[0m \u001b[0;32mas\u001b[0m \u001b[0me\u001b[0m\u001b[0;34m:\u001b[0m\u001b[0;34m\u001b[0m\u001b[0;34m\u001b[0m\u001b[0m\n",
      "\u001b[0;32m/opt/conda/lib/python3.8/multiprocessing/queues.py\u001b[0m in \u001b[0;36mget\u001b[0;34m(self, block, timeout)\u001b[0m\n\u001b[1;32m    105\u001b[0m                 \u001b[0;32mif\u001b[0m \u001b[0mblock\u001b[0m\u001b[0;34m:\u001b[0m\u001b[0;34m\u001b[0m\u001b[0;34m\u001b[0m\u001b[0m\n\u001b[1;32m    106\u001b[0m                     \u001b[0mtimeout\u001b[0m \u001b[0;34m=\u001b[0m \u001b[0mdeadline\u001b[0m \u001b[0;34m-\u001b[0m \u001b[0mtime\u001b[0m\u001b[0;34m.\u001b[0m\u001b[0mmonotonic\u001b[0m\u001b[0;34m(\u001b[0m\u001b[0;34m)\u001b[0m\u001b[0;34m\u001b[0m\u001b[0;34m\u001b[0m\u001b[0m\n\u001b[0;32m--> 107\u001b[0;31m                     \u001b[0;32mif\u001b[0m \u001b[0;32mnot\u001b[0m \u001b[0mself\u001b[0m\u001b[0;34m.\u001b[0m\u001b[0m_poll\u001b[0m\u001b[0;34m(\u001b[0m\u001b[0mtimeout\u001b[0m\u001b[0;34m)\u001b[0m\u001b[0;34m:\u001b[0m\u001b[0;34m\u001b[0m\u001b[0;34m\u001b[0m\u001b[0m\n\u001b[0m\u001b[1;32m    108\u001b[0m                         \u001b[0;32mraise\u001b[0m \u001b[0mEmpty\u001b[0m\u001b[0;34m\u001b[0m\u001b[0;34m\u001b[0m\u001b[0m\n\u001b[1;32m    109\u001b[0m                 \u001b[0;32melif\u001b[0m \u001b[0;32mnot\u001b[0m \u001b[0mself\u001b[0m\u001b[0;34m.\u001b[0m\u001b[0m_poll\u001b[0m\u001b[0;34m(\u001b[0m\u001b[0;34m)\u001b[0m\u001b[0;34m:\u001b[0m\u001b[0;34m\u001b[0m\u001b[0;34m\u001b[0m\u001b[0m\n",
      "\u001b[0;32m/opt/conda/lib/python3.8/multiprocessing/connection.py\u001b[0m in \u001b[0;36mpoll\u001b[0;34m(self, timeout)\u001b[0m\n\u001b[1;32m    255\u001b[0m         \u001b[0mself\u001b[0m\u001b[0;34m.\u001b[0m\u001b[0m_check_closed\u001b[0m\u001b[0;34m(\u001b[0m\u001b[0;34m)\u001b[0m\u001b[0;34m\u001b[0m\u001b[0;34m\u001b[0m\u001b[0m\n\u001b[1;32m    256\u001b[0m         \u001b[0mself\u001b[0m\u001b[0;34m.\u001b[0m\u001b[0m_check_readable\u001b[0m\u001b[0;34m(\u001b[0m\u001b[0;34m)\u001b[0m\u001b[0;34m\u001b[0m\u001b[0;34m\u001b[0m\u001b[0m\n\u001b[0;32m--> 257\u001b[0;31m         \u001b[0;32mreturn\u001b[0m \u001b[0mself\u001b[0m\u001b[0;34m.\u001b[0m\u001b[0m_poll\u001b[0m\u001b[0;34m(\u001b[0m\u001b[0mtimeout\u001b[0m\u001b[0;34m)\u001b[0m\u001b[0;34m\u001b[0m\u001b[0;34m\u001b[0m\u001b[0m\n\u001b[0m\u001b[1;32m    258\u001b[0m \u001b[0;34m\u001b[0m\u001b[0m\n\u001b[1;32m    259\u001b[0m     \u001b[0;32mdef\u001b[0m \u001b[0m__enter__\u001b[0m\u001b[0;34m(\u001b[0m\u001b[0mself\u001b[0m\u001b[0;34m)\u001b[0m\u001b[0;34m:\u001b[0m\u001b[0;34m\u001b[0m\u001b[0;34m\u001b[0m\u001b[0m\n",
      "\u001b[0;32m/opt/conda/lib/python3.8/multiprocessing/connection.py\u001b[0m in \u001b[0;36m_poll\u001b[0;34m(self, timeout)\u001b[0m\n\u001b[1;32m    422\u001b[0m \u001b[0;34m\u001b[0m\u001b[0m\n\u001b[1;32m    423\u001b[0m     \u001b[0;32mdef\u001b[0m \u001b[0m_poll\u001b[0m\u001b[0;34m(\u001b[0m\u001b[0mself\u001b[0m\u001b[0;34m,\u001b[0m \u001b[0mtimeout\u001b[0m\u001b[0;34m)\u001b[0m\u001b[0;34m:\u001b[0m\u001b[0;34m\u001b[0m\u001b[0;34m\u001b[0m\u001b[0m\n\u001b[0;32m--> 424\u001b[0;31m         \u001b[0mr\u001b[0m \u001b[0;34m=\u001b[0m \u001b[0mwait\u001b[0m\u001b[0;34m(\u001b[0m\u001b[0;34m[\u001b[0m\u001b[0mself\u001b[0m\u001b[0;34m]\u001b[0m\u001b[0;34m,\u001b[0m \u001b[0mtimeout\u001b[0m\u001b[0;34m)\u001b[0m\u001b[0;34m\u001b[0m\u001b[0;34m\u001b[0m\u001b[0m\n\u001b[0m\u001b[1;32m    425\u001b[0m         \u001b[0;32mreturn\u001b[0m \u001b[0mbool\u001b[0m\u001b[0;34m(\u001b[0m\u001b[0mr\u001b[0m\u001b[0;34m)\u001b[0m\u001b[0;34m\u001b[0m\u001b[0;34m\u001b[0m\u001b[0m\n\u001b[1;32m    426\u001b[0m \u001b[0;34m\u001b[0m\u001b[0m\n",
      "\u001b[0;32m/opt/conda/lib/python3.8/multiprocessing/connection.py\u001b[0m in \u001b[0;36mwait\u001b[0;34m(object_list, timeout)\u001b[0m\n\u001b[1;32m    929\u001b[0m \u001b[0;34m\u001b[0m\u001b[0m\n\u001b[1;32m    930\u001b[0m             \u001b[0;32mwhile\u001b[0m \u001b[0;32mTrue\u001b[0m\u001b[0;34m:\u001b[0m\u001b[0;34m\u001b[0m\u001b[0;34m\u001b[0m\u001b[0m\n\u001b[0;32m--> 931\u001b[0;31m                 \u001b[0mready\u001b[0m \u001b[0;34m=\u001b[0m \u001b[0mselector\u001b[0m\u001b[0;34m.\u001b[0m\u001b[0mselect\u001b[0m\u001b[0;34m(\u001b[0m\u001b[0mtimeout\u001b[0m\u001b[0;34m)\u001b[0m\u001b[0;34m\u001b[0m\u001b[0;34m\u001b[0m\u001b[0m\n\u001b[0m\u001b[1;32m    932\u001b[0m                 \u001b[0;32mif\u001b[0m \u001b[0mready\u001b[0m\u001b[0;34m:\u001b[0m\u001b[0;34m\u001b[0m\u001b[0;34m\u001b[0m\u001b[0m\n\u001b[1;32m    933\u001b[0m                     \u001b[0;32mreturn\u001b[0m \u001b[0;34m[\u001b[0m\u001b[0mkey\u001b[0m\u001b[0;34m.\u001b[0m\u001b[0mfileobj\u001b[0m \u001b[0;32mfor\u001b[0m \u001b[0;34m(\u001b[0m\u001b[0mkey\u001b[0m\u001b[0;34m,\u001b[0m \u001b[0mevents\u001b[0m\u001b[0;34m)\u001b[0m \u001b[0;32min\u001b[0m \u001b[0mready\u001b[0m\u001b[0;34m]\u001b[0m\u001b[0;34m\u001b[0m\u001b[0;34m\u001b[0m\u001b[0m\n",
      "\u001b[0;32m/opt/conda/lib/python3.8/selectors.py\u001b[0m in \u001b[0;36mselect\u001b[0;34m(self, timeout)\u001b[0m\n\u001b[1;32m    413\u001b[0m         \u001b[0mready\u001b[0m \u001b[0;34m=\u001b[0m \u001b[0;34m[\u001b[0m\u001b[0;34m]\u001b[0m\u001b[0;34m\u001b[0m\u001b[0;34m\u001b[0m\u001b[0m\n\u001b[1;32m    414\u001b[0m         \u001b[0;32mtry\u001b[0m\u001b[0;34m:\u001b[0m\u001b[0;34m\u001b[0m\u001b[0;34m\u001b[0m\u001b[0m\n\u001b[0;32m--> 415\u001b[0;31m             \u001b[0mfd_event_list\u001b[0m \u001b[0;34m=\u001b[0m \u001b[0mself\u001b[0m\u001b[0;34m.\u001b[0m\u001b[0m_selector\u001b[0m\u001b[0;34m.\u001b[0m\u001b[0mpoll\u001b[0m\u001b[0;34m(\u001b[0m\u001b[0mtimeout\u001b[0m\u001b[0;34m)\u001b[0m\u001b[0;34m\u001b[0m\u001b[0;34m\u001b[0m\u001b[0m\n\u001b[0m\u001b[1;32m    416\u001b[0m         \u001b[0;32mexcept\u001b[0m \u001b[0mInterruptedError\u001b[0m\u001b[0;34m:\u001b[0m\u001b[0;34m\u001b[0m\u001b[0;34m\u001b[0m\u001b[0m\n\u001b[1;32m    417\u001b[0m             \u001b[0;32mreturn\u001b[0m \u001b[0mready\u001b[0m\u001b[0;34m\u001b[0m\u001b[0;34m\u001b[0m\u001b[0m\n",
      "\u001b[0;31mKeyboardInterrupt\u001b[0m: "
     ]
    }
   ],
   "source": [
    "# train\n",
    "\n",
    "tr_writer = SummaryWriter(\"logs/exp_15/tr\")\n",
    "val_writer = SummaryWriter(\"logs/exp_15/val\")\n",
    "\n",
    "for ep in tqdm(range(EPOCHS)):\n",
    "\n",
    "    # == training phase =================================\n",
    "    train_loss_ep = 0\n",
    "    train_accuracy_ep = 0\n",
    "    train_f1_ep = 0\n",
    "    for X, y in iter(train_loader):\n",
    "        \n",
    "        resnet18.train()\n",
    "        \n",
    "        # change dim for loss func\n",
    "        _y = labeling(y.unsqueeze(1), 3)  # torch.Size([32, 3])\n",
    "        X, _y = X.to(DEVICE), _y.to(DEVICE)\n",
    "        \n",
    "        predict = resnet18(X)  # torch.Size([32, 3])\n",
    "        \n",
    "        train_loss = multi_criterion(predict, _y)\n",
    "        train_accuracy = get_acc(predict, y.squeeze().to(DEVICE))\n",
    "        train_f1 = f1(torch.argmax(predict, 1).to(\"cpu\"), y)\n",
    "        \n",
    "        optm.zero_grad()\n",
    "    \n",
    "        train_loss.backward()\n",
    "        optm.step()\n",
    "        \n",
    "        train_loss_ep += train_loss\n",
    "        train_accuracy_ep += train_accuracy\n",
    "        train_f1_ep += train_f1\n",
    "        # end of one dataloader\n",
    "    \n",
    "    train_loss_avg = train_loss_ep / len(train_loader)\n",
    "    train_accuracy_avg = train_accuracy_ep / len(train_loader)\n",
    "    train_f1_avg = train_f1_ep / len(train_loader)\n",
    "    \n",
    "    # tensorboard\n",
    "    tr_writer.add_scalar(\n",
    "        'loss',\n",
    "        train_loss_avg,\n",
    "        ep\n",
    "    )\n",
    "    tr_writer.add_scalar(\n",
    "        'acc',\n",
    "        train_accuracy_avg,\n",
    "        ep\n",
    "    )\n",
    "    tr_writer.add_scalar(\n",
    "        'f1',\n",
    "        train_f1_avg,\n",
    "        ep\n",
    "    )\n",
    "    \n",
    "    # === testing phase =================================\n",
    "    with torch.no_grad():\n",
    "        val_loss_ep = 0\n",
    "        val_accuracy_ep = 0\n",
    "        val_f1_ep = 0\n",
    "        for X, y in iter(val_loader):\n",
    "            ## testing phrase\n",
    "            resnet18.eval()\n",
    "\n",
    "            # change dim for loss func\n",
    "            _y = labeling(y.unsqueeze(1), 3)\n",
    "\n",
    "            X, _y = X.to(DEVICE), _y.to(DEVICE)\n",
    "            predict = resnet18(X)\n",
    "\n",
    "            val_loss = multi_criterion(predict, _y)\n",
    "            val_accuracy = get_acc(predict, y.squeeze().to(DEVICE))\n",
    "            val_f1 = f1(torch.argmax(predict, 1).to(\"cpu\"), y)\n",
    "\n",
    "            val_loss_ep += val_loss\n",
    "            val_accuracy_ep += val_accuracy\n",
    "            val_f1_ep += val_f1\n",
    "\n",
    "\n",
    "        val_loss_avg = val_loss_ep / len(val_loader)\n",
    "        val_accuracy_avg = val_accuracy_ep / len(val_loader)\n",
    "        val_f1_avg = val_f1_ep / len(val_loader)\n",
    "    \n",
    "    # tensorboard\n",
    "    val_writer.add_scalar(\n",
    "        'loss',\n",
    "        val_loss_avg,\n",
    "        ep\n",
    "    )\n",
    "    val_writer.add_scalar(\n",
    "        'acc',\n",
    "        val_accuracy_avg,\n",
    "        ep\n",
    "    )\n",
    "    val_writer.add_scalar(\n",
    "        'f1',\n",
    "        val_f1_avg,\n",
    "        ep\n",
    "    )\n",
    "    \n",
    "    print(\"train_loss_avg:\", train_loss_avg.item(), \"train_accuracy_avg:\", train_accuracy_avg.item(), \"train_f1_avg:\", train_f1_avg)\n",
    "    print(\"val_loss_avg:\", val_loss_avg.item(), \"val_accuracy_avg:\", val_accuracy_avg.item(), \"val_f1_avg:\", val_f1_avg)"
   ]
  },
  {
   "cell_type": "code",
   "execution_count": null,
   "id": "1455bddf-a9d5-410a-a1d8-fc8eced45cb1",
   "metadata": {},
   "outputs": [],
   "source": [
    "# # How to Save\n",
    "\n",
    "# best_val_loss = 0\n",
    "# best_val_f1 = 0\n",
    "\n",
    "# for ep in tqdm(range(EPOCHS)):\n",
    "    \n",
    "#     # train, valid ...\n",
    "    \n",
    "#     if best_val_f1 < val_f1_avg or best_val_loss >= val_loss_avg:\n",
    "#         best_val_loss = val_loss_avg\n",
    "#         best_val_f1 = val_f1_avg\n",
    "#         torch.save(resnet18.state_dict(), f\"{resnet18.__class__.__name__}_{ep}_loss{train_loss_avg:.2f}_acc{train_accuracy_avg:2f}.pt\")\n",
    "        \n",
    "# #         torch.save({\n",
    "# #             'epoch': ep,\n",
    "# #             'model_state_dict': resnet18.state_dict(),\n",
    "# #             'optimizer_state_dict': optm.state_dict(),\n",
    "# #             'loss': train_loss_avg,\n",
    "# #             }, f\"saved/{resnet18.__class__.__name__}_{ep}_loss{train_loss_avg:.2f}_acc{train_accuracy_avg:2f}.pt\")\n",
    "\n"
   ]
  },
  {
   "cell_type": "code",
   "execution_count": null,
   "id": "748a3cee-ebb5-4ee9-8efa-a10f9e4a8c0c",
   "metadata": {},
   "outputs": [],
   "source": []
  }
 ],
 "metadata": {
  "kernelspec": {
   "display_name": "Python 3 (ipykernel)",
   "language": "python",
   "name": "python3"
  },
  "language_info": {
   "codemirror_mode": {
    "name": "ipython",
    "version": 3
   },
   "file_extension": ".py",
   "mimetype": "text/x-python",
   "name": "python",
   "nbconvert_exporter": "python",
   "pygments_lexer": "ipython3",
   "version": "3.8.5"
  }
 },
 "nbformat": 4,
 "nbformat_minor": 5
}
